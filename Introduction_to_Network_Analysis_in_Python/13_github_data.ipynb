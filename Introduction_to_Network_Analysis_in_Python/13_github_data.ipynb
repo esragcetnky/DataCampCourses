{
 "cells": [
  {
   "cell_type": "markdown",
   "metadata": {},
   "source": [
    "# 0.Import Libraries"
   ]
  },
  {
   "cell_type": "code",
   "execution_count": 1,
   "metadata": {},
   "outputs": [],
   "source": [
    "x = [10,2,5] + [5, 8, 4]"
   ]
  },
  {
   "cell_type": "code",
   "execution_count": 3,
   "metadata": {},
   "outputs": [],
   "source": [
    "import networkx as nx\n",
    "import matplotlib.pyplot as plt\n",
    "import nxviz as nv\n",
    "import datetime\n",
    "import pickle\n",
    "# Import necessary modules\n",
    "from itertools import combinations\n",
    "from collections import defaultdict"
   ]
  },
  {
   "cell_type": "markdown",
   "metadata": {},
   "source": [
    "# 1.Load Libraries"
   ]
  },
  {
   "cell_type": "code",
   "execution_count": 5,
   "metadata": {},
   "outputs": [],
   "source": [
    "\n",
    "T = pickle.load(open(\"Data\\github_users.p\", 'rb'))"
   ]
  },
  {
   "cell_type": "markdown",
   "metadata": {},
   "source": [
    "# 2.Learning Number of Nodes and Edges"
   ]
  },
  {
   "cell_type": "code",
   "execution_count": null,
   "metadata": {},
   "outputs": [],
   "source": [
    "len(T.nodes()), len(T.edges())"
   ]
  },
  {
   "cell_type": "markdown",
   "metadata": {},
   "source": [
    "# 3.Plotting Degree Centrality"
   ]
  },
  {
   "cell_type": "code",
   "execution_count": null,
   "metadata": {},
   "outputs": [],
   "source": [
    "# Plot the degree distribution of the GitHub collaboration network\n",
    "plt.hist(list(nx.degree_centrality(T).values()))\n",
    "plt.show()"
   ]
  },
  {
   "cell_type": "markdown",
   "metadata": {},
   "source": [
    "# 4.Getting a Subgraph and Plotting Betweenness Centrality"
   ]
  },
  {
   "cell_type": "code",
   "execution_count": 27,
   "metadata": {},
   "outputs": [],
   "source": [
    "\n",
    "nodes_of_interest = ['u8229', 'u8231', 'u8521', 'u5814', 'u3570', 'u655', 'u243', 'u6104', 'u8286', 'u2258', 'u4768']\n",
    "\n",
    "# Define get_nodes_and_nbrs()\n",
    "def get_nodes_and_nbrs(G, nodes_of_interest):\n",
    "    \"\"\"\n",
    "    Returns a subgraph of the graph `G` with only the `nodes_of_interest` and their neighbors.\n",
    "    \"\"\"\n",
    "    nodes_to_draw = []\n",
    "\n",
    "    # Iterate over the nodes of interest\n",
    "    for n in nodes_of_interest:\n",
    "\n",
    "        # Append the nodes of interest to nodes_to_draw\n",
    "        nodes_to_draw.append(n)\n",
    "\n",
    "        # Iterate over all the neighbors of node n\n",
    "        for nbr in G.neighbors(n):\n",
    "\n",
    "            # Append the neighbors of n to nodes_to_draw\n",
    "            nodes_to_draw.append(nbr)\n",
    "\n",
    "    return G.subgraph(nodes_to_draw)\n",
    "\n",
    "# Extract the subgraph with the nodes of interest: T_draw\n",
    "T_draw = get_nodes_and_nbrs(T,nodes_of_interest)"
   ]
  },
  {
   "cell_type": "code",
   "execution_count": null,
   "metadata": {},
   "outputs": [],
   "source": [
    "# Plot the degree distribution of the GitHub collaboration network\n",
    "plt.hist(list(nx.betweenness_centrality(T_draw).values()))\n",
    "plt.show()"
   ]
  },
  {
   "cell_type": "markdown",
   "metadata": {},
   "source": [
    "# 5.Connected Components"
   ]
  },
  {
   "cell_type": "code",
   "execution_count": null,
   "metadata": {},
   "outputs": [],
   "source": [
    "nx.connected_components(T)"
   ]
  },
  {
   "cell_type": "code",
   "execution_count": null,
   "metadata": {},
   "outputs": [],
   "source": [
    "list(nx.connected_components(T))"
   ]
  },
  {
   "cell_type": "code",
   "execution_count": null,
   "metadata": {},
   "outputs": [],
   "source": [
    "for g in list(nx.connected_components(T)):\n",
    "    if len(g) == 9:\n",
    "        print(g)"
   ]
  },
  {
   "cell_type": "markdown",
   "metadata": {},
   "source": [
    "# 6.Matrix Plot"
   ]
  },
  {
   "cell_type": "code",
   "execution_count": null,
   "metadata": {},
   "outputs": [],
   "source": [
    "# Calculate the largest connected component: largest_ccs\n",
    "largest_ccs = sorted((T.subgraph(c) for c in nx.connected_components(T)), key=lambda x: len(x))[-4]\n",
    "\n",
    "# Create the customized Matrix plot: h\n",
    "h = nv.matrix(largest_ccs)\n",
    "\n",
    "# Draw the Matrix plot to the screen\n",
    "plt.show()"
   ]
  },
  {
   "cell_type": "markdown",
   "metadata": {},
   "source": [
    "# 7.Arc Plot"
   ]
  },
  {
   "cell_type": "code",
   "execution_count": null,
   "metadata": {},
   "outputs": [],
   "source": [
    "# Iterate over all the nodes in G, including the metadata\n",
    "for n in largest_ccs.nodes:\n",
    "\n",
    "    # Calculate the degree of each node: G.node[n]['degree']\n",
    "    largest_ccs.nodes[n]['degree'] = nx.degree(T, n)\n",
    "\n",
    "# Create the Arc plot: a\n",
    "a = nv.arc(largest_ccs, sort_by='degree')\n",
    "\n",
    "# Draw the Arc plot to the screen\n",
    "plt.show()"
   ]
  },
  {
   "cell_type": "markdown",
   "metadata": {},
   "source": [
    "# 8.Circos Plot"
   ]
  },
  {
   "cell_type": "code",
   "execution_count": 79,
   "metadata": {},
   "outputs": [],
   "source": [
    "# Iterate over all the nodes, including the metadata\n",
    "for n, d in T.nodes(data=True):\n",
    "    # Calculate the degree of each node: G.node[n]['degree']\n",
    "    T.nodes[n]['degree'] = nx.degree(T, n)\n"
   ]
  },
  {
   "cell_type": "code",
   "execution_count": null,
   "metadata": {},
   "outputs": [],
   "source": [
    "# Calculate the largest connected component: largest_ccs\n",
    "largest_ccs = sorted((T.subgraph(c) for c in nx.connected_components(T)), key=lambda x: len(x))[-2]\n",
    "# Create the Circos plot: c\n",
    "c = nv.circos(largest_ccs , sort_by='degree')\n",
    "\n",
    "# Draw the Circos plot to the screen\n",
    "plt.show()"
   ]
  },
  {
   "cell_type": "code",
   "execution_count": null,
   "metadata": {},
   "outputs": [],
   "source": [
    "# Calculate the largest connected component: largest_ccs\n",
    "largest_ccs = sorted((T.subgraph(c) for c in nx.connected_components(T)), key=lambda x: len(x))[-4]\n",
    "# Create the Circos plot: c\n",
    "c = nv.circos(largest_ccs , sort_by='degree')\n",
    "\n",
    "# Draw the Circos plot to the screen\n",
    "plt.show()"
   ]
  },
  {
   "cell_type": "markdown",
   "metadata": {},
   "source": [
    "# 9.Finding Cliques"
   ]
  },
  {
   "cell_type": "code",
   "execution_count": null,
   "metadata": {},
   "outputs": [],
   "source": [
    "# Calculate the maximal cliques in G: cliques\n",
    "cliques = nx.find_cliques(T)\n",
    "\n",
    "# Count and print the number of maximal cliques in G\n",
    "print(len(list(cliques)))"
   ]
  },
  {
   "cell_type": "code",
   "execution_count": null,
   "metadata": {},
   "outputs": [],
   "source": [
    "# Find the author(s) that are part of the largest maximal clique: largest_clique\n",
    "# Calculate the largest connected component: largest_ccs\n",
    "largest_ccs = sorted((T.subgraph(c) for c in nx.connected_components(T)), key=lambda x: len(x))[-1]\n",
    "\n",
    "largest_clique = sorted((c for c in nx.find_cliques(largest_ccs)), key=lambda x:len(x))[-6]\n",
    "\n",
    "# Create the subgraph of the largest_clique: G_lc\n",
    "G_lc = T.subgraph(largest_clique)\n",
    "\n",
    "# Create the Circos plot: c\n",
    "c = nv.circos(G_lc) \n",
    "\n",
    "# Draw the Circos plot to the screen\n",
    "plt.show()"
   ]
  },
  {
   "cell_type": "code",
   "execution_count": null,
   "metadata": {},
   "outputs": [],
   "source": [
    "# Find the author(s) that are part of the largest maximal clique: largest_clique\n",
    "# Calculate the largest connected component: largest_ccs\n",
    "largest_ccs = sorted((T.subgraph(c) for c in nx.connected_components(T)), key=lambda x: len(x))[-1]\n",
    "\n",
    "largest_clique = sorted((c for c in nx.find_cliques(largest_ccs)), key=lambda x:len(x))[-50]\n",
    "\n",
    "# Create the subgraph of the largest_clique: G_lc\n",
    "G_lc = T.subgraph(largest_clique)\n",
    "\n",
    "# Create the Circos plot: c\n",
    "c = nv.circos(G_lc) \n",
    "\n",
    "# Draw the Circos plot to the screen\n",
    "plt.show()"
   ]
  },
  {
   "cell_type": "code",
   "execution_count": null,
   "metadata": {},
   "outputs": [],
   "source": [
    "# Find the author(s) that are part of the largest maximal clique: largest_clique\n",
    "# Calculate the largest connected component: largest_ccs\n",
    "largest_ccs = sorted((T.subgraph(c) for c in nx.connected_components(T)), key=lambda x: len(x))[-1]\n",
    "\n",
    "largest_clique = sorted((c for c in nx.find_cliques(largest_ccs)), key=lambda x:len(x))[-50]\n",
    "\n",
    "# Create the subgraph of the largest_clique: G_lc\n",
    "G_lc = T.subgraph(largest_clique)\n",
    "\n",
    "# Create the Circos plot: c\n",
    "c = nv.arc(G_lc) \n",
    "\n",
    "# Draw the Circos plot to the screen\n",
    "plt.show()"
   ]
  },
  {
   "cell_type": "markdown",
   "metadata": {},
   "source": [
    "# 10.Finding important collaborators "
   ]
  },
  {
   "cell_type": "code",
   "execution_count": null,
   "metadata": {},
   "outputs": [],
   "source": [
    "# Compute the degree centralities of G: deg_cent\n",
    "deg_cent = nx.degree_centrality(T)\n",
    "\n",
    "# Compute the maximum degree centrality: max_dc\n",
    "max_dc = max(deg_cent.values())\n",
    "\n",
    "# Find the user(s) that have collaborated the most: prolific_collaborators\n",
    "prolific_collaborators = [n for n, dc in deg_cent.items() if dc == max_dc]\n",
    "\n",
    "# Print the most prolific collaborator(s)\n",
    "print(prolific_collaborators)"
   ]
  },
  {
   "cell_type": "markdown",
   "metadata": {},
   "source": [
    "# 11.Finding the largest communities"
   ]
  },
  {
   "cell_type": "code",
   "execution_count": null,
   "metadata": {},
   "outputs": [],
   "source": [
    "\n",
    "# Identify the largest maximal clique: largest_max_clique\n",
    "largest_max_clique = set(sorted(nx.find_cliques(T), key=lambda x: len(x))[-1])\n",
    "\n",
    "# Create a subgraph from the largest_max_clique: G_lmc\n",
    "G_lmc = T.subgraph(largest_max_clique).copy()\n",
    "\n",
    "# Go out 1 degree of separation\n",
    "for node in list(G_lmc.nodes()):\n",
    "    G_lmc.add_nodes_from(T.neighbors(node))\n",
    "    G_lmc.add_edges_from(zip([node]*len(list(T.neighbors(node))), T.neighbors(node)))\n",
    "\n",
    "\n",
    "# Record each node's degree centrality score\n",
    "for n in G_lmc.nodes():\n",
    "    G_lmc.nodes[n]['degree centrality'] = nx.degree_centrality(G_lmc)[n]\n",
    "\n",
    "# Create the Arc plot: a\n",
    "a = nv.arc(G_lmc, sort_by='degree centrality')\n",
    "\n",
    "# Draw the Arc plot to the screen\n",
    "a\n",
    "plt.show()"
   ]
  },
  {
   "cell_type": "code",
   "execution_count": null,
   "metadata": {},
   "outputs": [],
   "source": [
    "\n",
    "# Identify the largest maximal clique: largest_max_clique\n",
    "largest_max_clique = set(sorted(nx.find_cliques(T), key=lambda x: len(x))[-10])\n",
    "\n",
    "# Create a subgraph from the largest_max_clique: G_lmc\n",
    "G_lmc = T.subgraph(largest_max_clique).copy()\n",
    "\n",
    "# Go out 1 degree of separation\n",
    "for node in list(G_lmc.nodes()):\n",
    "    G_lmc.add_nodes_from(T.neighbors(node))\n",
    "    G_lmc.add_edges_from(zip([node]*len(list(T.neighbors(node))), T.neighbors(node)))\n",
    "\n",
    "\n",
    "# Record each node's degree centrality score\n",
    "for n in G_lmc.nodes():\n",
    "    G_lmc.nodes[n]['degree centrality'] = nx.degree_centrality(G_lmc)[n]\n",
    "\n",
    "# Create the Arc plot: a\n",
    "a = nv.arc(G_lmc, sort_by='degree centrality')\n",
    "\n",
    "# Draw the Arc plot to the screen\n",
    "a\n",
    "plt.show()"
   ]
  },
  {
   "cell_type": "code",
   "execution_count": null,
   "metadata": {},
   "outputs": [],
   "source": [
    "\n",
    "# Identify the largest maximal clique: largest_max_clique\n",
    "largest_max_clique = set(sorted(nx.find_cliques(T), key=lambda x: len(x))[-2000])\n",
    "\n",
    "# Create a subgraph from the largest_max_clique: G_lmc\n",
    "G_lmc = T.subgraph(largest_max_clique).copy()\n",
    "\n",
    "# Go out 1 degree of separation\n",
    "for node in list(G_lmc.nodes()):\n",
    "    G_lmc.add_nodes_from(T.neighbors(node))\n",
    "    G_lmc.add_edges_from(zip([node]*len(list(T.neighbors(node))), T.neighbors(node)))\n",
    "\n",
    "\n",
    "# Record each node's degree centrality score\n",
    "for n in G_lmc.nodes():\n",
    "    G_lmc.nodes[n]['degree centrality'] = nx.degree_centrality(G_lmc)[n]\n",
    "\n",
    "# Create the Arc plot: a\n",
    "a = nv.arc(G_lmc, sort_by='degree centrality')\n",
    "\n",
    "# Draw the Arc plot to the screen\n",
    "a\n",
    "plt.show()"
   ]
  },
  {
   "cell_type": "markdown",
   "metadata": {},
   "source": [
    "# 12.Recommending System"
   ]
  },
  {
   "cell_type": "code",
   "execution_count": null,
   "metadata": {},
   "outputs": [],
   "source": [
    "# Initialize the defaultdict: recommended\n",
    "recommended = defaultdict(int)\n",
    "\n",
    "# Iterate over all the nodes in G\n",
    "for n, d in T.nodes(data=True):\n",
    "\n",
    "    # Iterate over all possible triangle relationship combinations\n",
    "    for n1, n2 in combinations(list(T.neighbors(n)), 2):\n",
    "\n",
    "        # Check whether n1 and n2 do not have an edge\n",
    "        if not T.has_edge(n1, n2):\n",
    "\n",
    "            # Increment recommended\n",
    "            recommended[(n1, n2)] += 1\n",
    "\n",
    "# Identify the top 10 pairs of users\n",
    "all_counts = sorted(recommended.values())\n",
    "top10_pairs = [pair for pair, count in recommended.items() if count > all_counts[-10]]\n",
    "print(top10_pairs)\n"
   ]
  },
  {
   "cell_type": "code",
   "execution_count": null,
   "metadata": {},
   "outputs": [],
   "source": []
  }
 ],
 "metadata": {
  "kernelspec": {
   "display_name": "environment",
   "language": "python",
   "name": "python3"
  },
  "language_info": {
   "codemirror_mode": {
    "name": "ipython",
    "version": 3
   },
   "file_extension": ".py",
   "mimetype": "text/x-python",
   "name": "python",
   "nbconvert_exporter": "python",
   "pygments_lexer": "ipython3",
   "version": "3.10.11"
  }
 },
 "nbformat": 4,
 "nbformat_minor": 2
}
