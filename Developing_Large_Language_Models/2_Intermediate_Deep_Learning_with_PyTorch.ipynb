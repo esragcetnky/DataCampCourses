{
 "cells": [
  {
   "cell_type": "markdown",
   "id": "e12c76af-6608-488a-aa88-b6ea4860b20b",
   "metadata": {},
   "source": [
    "# 0.Import Libraries"
   ]
  },
  {
   "cell_type": "code",
   "execution_count": 1,
   "id": "dcc21af3-8a0d-4292-8d79-0387ea752d9d",
   "metadata": {
    "execution": {
     "iopub.execute_input": "2024-05-25T18:21:19.598233Z",
     "iopub.status.busy": "2024-05-25T18:21:19.597695Z",
     "iopub.status.idle": "2024-05-25T18:21:19.604028Z",
     "shell.execute_reply": "2024-05-25T18:21:19.602952Z",
     "shell.execute_reply.started": "2024-05-25T18:21:19.598191Z"
    },
    "tags": []
   },
   "outputs": [],
   "source": [
    "import waterdataset_oop\n",
    "from waterdataset_oop import WaterDataset\n",
    "\n",
    "import pandas as pd"
   ]
  },
  {
   "cell_type": "markdown",
   "id": "9d259eaa-eb0d-4e90-9c2c-0c78ece2b880",
   "metadata": {},
   "source": [
    "# 1.Creating the Tensor Dataset"
   ]
  },
  {
   "cell_type": "code",
   "execution_count": 3,
   "id": "52906bb9-6f55-48a1-88af-6e78254238a9",
   "metadata": {
    "execution": {
     "iopub.execute_input": "2024-05-25T18:21:19.606103Z",
     "iopub.status.busy": "2024-05-25T18:21:19.605739Z",
     "iopub.status.idle": "2024-05-25T18:21:19.624419Z",
     "shell.execute_reply": "2024-05-25T18:21:19.623144Z",
     "shell.execute_reply.started": "2024-05-25T18:21:19.606071Z"
    },
    "tags": []
   },
   "outputs": [],
   "source": [
    "dataset_train = WaterDataset(\"Data/DataCamp_water_train.csv\")\n",
    "dataset_test = WaterDataset(\"Data/DataCamp_water_test.csv\")"
   ]
  },
  {
   "cell_type": "code",
   "execution_count": 4,
   "id": "c3a5c826-d154-4a2a-a439-f50e017ea0e2",
   "metadata": {
    "execution": {
     "iopub.execute_input": "2024-05-25T18:21:19.626507Z",
     "iopub.status.busy": "2024-05-25T18:21:19.625941Z",
     "iopub.status.idle": "2024-05-25T18:21:19.633306Z",
     "shell.execute_reply": "2024-05-25T18:21:19.632277Z",
     "shell.execute_reply.started": "2024-05-25T18:21:19.626466Z"
    },
    "tags": []
   },
   "outputs": [
    {
     "data": {
      "text/plain": [
       "<waterdataset_oop.WaterDataset at 0x1168594add0>"
      ]
     },
     "execution_count": 4,
     "metadata": {},
     "output_type": "execute_result"
    }
   ],
   "source": [
    "dataset_train"
   ]
  },
  {
   "cell_type": "markdown",
   "id": "1bedbcee-ae54-4517-9495-a2a70b2885cd",
   "metadata": {},
   "source": [
    "# 2.Creating the DataLoader"
   ]
  },
  {
   "cell_type": "code",
   "execution_count": 5,
   "id": "dec5697e-0731-4881-b553-71ebcd28f271",
   "metadata": {
    "execution": {
     "iopub.execute_input": "2024-05-25T18:21:19.635633Z",
     "iopub.status.busy": "2024-05-25T18:21:19.635244Z",
     "iopub.status.idle": "2024-05-25T18:21:19.641956Z",
     "shell.execute_reply": "2024-05-25T18:21:19.641147Z",
     "shell.execute_reply.started": "2024-05-25T18:21:19.635610Z"
    },
    "tags": []
   },
   "outputs": [],
   "source": [
    "from torch.utils.data import DataLoader"
   ]
  },
  {
   "cell_type": "code",
   "execution_count": 6,
   "id": "dbdb83b0-5c1d-4009-803f-eb2dcd596d5b",
   "metadata": {
    "execution": {
     "iopub.execute_input": "2024-05-25T18:21:19.643274Z",
     "iopub.status.busy": "2024-05-25T18:21:19.642927Z",
     "iopub.status.idle": "2024-05-25T18:21:19.652135Z",
     "shell.execute_reply": "2024-05-25T18:21:19.651426Z",
     "shell.execute_reply.started": "2024-05-25T18:21:19.643250Z"
    },
    "tags": []
   },
   "outputs": [],
   "source": [
    "dataloader_train = DataLoader(\n",
    "    dataset_train,\n",
    "    batch_size=2,\n",
    "    shuffle=True)"
   ]
  },
  {
   "cell_type": "code",
   "execution_count": 7,
   "id": "4322dcb9-ba45-42b6-a3e7-e7f70049e4ec",
   "metadata": {
    "execution": {
     "iopub.execute_input": "2024-05-25T18:21:19.653251Z",
     "iopub.status.busy": "2024-05-25T18:21:19.652939Z",
     "iopub.status.idle": "2024-05-25T18:21:19.664749Z",
     "shell.execute_reply": "2024-05-25T18:21:19.663742Z",
     "shell.execute_reply.started": "2024-05-25T18:21:19.653234Z"
    },
    "tags": []
   },
   "outputs": [
    {
     "name": "stdout",
     "output_type": "stream",
     "text": [
      "Features : tensor([[0.4649, 0.3585, 0.3959, 0.3335, 0.5955, 0.3902, 0.5480, 0.3873, 0.7396],\n",
      "        [0.3969, 0.4919, 0.3280, 0.4402, 0.5625, 0.4479, 0.4605, 0.4137, 0.5268]],\n",
      "       dtype=torch.float64),\n",
      "Labels : tensor([1., 0.], dtype=torch.float64)\n"
     ]
    }
   ],
   "source": [
    "features, labels = next(iter(dataloader_train))\n",
    "print(f\"Features : {features},\\nLabels : {labels}\")"
   ]
  },
  {
   "cell_type": "code",
   "execution_count": 8,
   "id": "f8c83b69-979d-4ffa-a3c4-99cb72ec3e25",
   "metadata": {
    "execution": {
     "iopub.execute_input": "2024-05-25T18:21:19.666627Z",
     "iopub.status.busy": "2024-05-25T18:21:19.666197Z",
     "iopub.status.idle": "2024-05-25T18:21:19.672754Z",
     "shell.execute_reply": "2024-05-25T18:21:19.671654Z",
     "shell.execute_reply.started": "2024-05-25T18:21:19.666589Z"
    },
    "tags": []
   },
   "outputs": [],
   "source": [
    "dataloader_test = DataLoader(dataset_test)"
   ]
  },
  {
   "cell_type": "code",
   "execution_count": 9,
   "id": "73ade083-c205-4ea8-a245-60e30d5ea7cf",
   "metadata": {
    "execution": {
     "iopub.execute_input": "2024-05-25T18:21:19.674647Z",
     "iopub.status.busy": "2024-05-25T18:21:19.674241Z",
     "iopub.status.idle": "2024-05-25T18:21:19.684716Z",
     "shell.execute_reply": "2024-05-25T18:21:19.683812Z",
     "shell.execute_reply.started": "2024-05-25T18:21:19.674624Z"
    },
    "tags": []
   },
   "outputs": [
    {
     "name": "stdout",
     "output_type": "stream",
     "text": [
      "Features : tensor([[0.6437, 0.4413, 0.3144, 0.4393, 0.5145, 0.3567, 0.3772, 0.2029, 0.5204]],\n",
      "       dtype=torch.float64),\n",
      "Labels : tensor([0.], dtype=torch.float64)\n"
     ]
    }
   ],
   "source": [
    "features, labels = next(iter(dataloader_test))\n",
    "print(f\"Features : {features},\\nLabels : {labels}\")"
   ]
  },
  {
   "cell_type": "markdown",
   "id": "5231bfdb-48c1-40fe-8154-9820d029ebc3",
   "metadata": {},
   "source": [
    "# 3.Model"
   ]
  },
  {
   "cell_type": "code",
   "execution_count": 10,
   "id": "a665f85d-564c-4404-bf4e-da86b03e4532",
   "metadata": {
    "execution": {
     "iopub.execute_input": "2024-05-25T18:21:19.686169Z",
     "iopub.status.busy": "2024-05-25T18:21:19.685695Z",
     "iopub.status.idle": "2024-05-25T18:21:19.692595Z",
     "shell.execute_reply": "2024-05-25T18:21:19.691750Z",
     "shell.execute_reply.started": "2024-05-25T18:21:19.686145Z"
    },
    "tags": []
   },
   "outputs": [],
   "source": [
    "import ClassNet\n",
    "from ClassNet import Net"
   ]
  },
  {
   "cell_type": "code",
   "execution_count": 11,
   "id": "0140af64-41c1-4aac-831d-f32396e9213e",
   "metadata": {
    "execution": {
     "iopub.execute_input": "2024-05-25T18:21:19.695088Z",
     "iopub.status.busy": "2024-05-25T18:21:19.694764Z",
     "iopub.status.idle": "2024-05-25T18:21:19.702873Z",
     "shell.execute_reply": "2024-05-25T18:21:19.702001Z",
     "shell.execute_reply.started": "2024-05-25T18:21:19.695070Z"
    },
    "tags": []
   },
   "outputs": [],
   "source": [
    "net = Net()"
   ]
  },
  {
   "cell_type": "markdown",
   "id": "68b2358c-147d-43fc-af67-2a49214699c1",
   "metadata": {},
   "source": [
    "# 4.Optimizers"
   ]
  },
  {
   "cell_type": "code",
   "execution_count": 12,
   "id": "8d83d2a3-1a9d-49c9-87fc-f952a68a5f34",
   "metadata": {
    "execution": {
     "iopub.execute_input": "2024-05-25T18:21:19.704031Z",
     "iopub.status.busy": "2024-05-25T18:21:19.703707Z",
     "iopub.status.idle": "2024-05-25T18:21:19.712683Z",
     "shell.execute_reply": "2024-05-25T18:21:19.711910Z",
     "shell.execute_reply.started": "2024-05-25T18:21:19.704013Z"
    },
    "tags": []
   },
   "outputs": [],
   "source": [
    "import torch.nn as nn\n",
    "import torch.optim as optim"
   ]
  },
  {
   "cell_type": "code",
   "execution_count": 13,
   "id": "5fee4f8b-a132-465b-a51d-5edebb402d13",
   "metadata": {
    "execution": {
     "iopub.execute_input": "2024-05-25T18:21:19.713737Z",
     "iopub.status.busy": "2024-05-25T18:21:19.713483Z",
     "iopub.status.idle": "2024-05-25T18:21:19.723083Z",
     "shell.execute_reply": "2024-05-25T18:21:19.722323Z",
     "shell.execute_reply.started": "2024-05-25T18:21:19.713720Z"
    },
    "tags": []
   },
   "outputs": [],
   "source": [
    "criterion = nn.BCELoss()\n",
    "optimizer = optim.SGD(net.parameters(),\n",
    "                      lr=0.001,\n",
    "                      momentum=0 )"
   ]
  },
  {
   "cell_type": "code",
   "execution_count": 20,
   "id": "30e4b7f6-8ae4-4a4a-a13f-6fb4b46d4b80",
   "metadata": {
    "execution": {
     "iopub.execute_input": "2024-05-25T18:21:19.724251Z",
     "iopub.status.busy": "2024-05-25T18:21:19.723930Z",
     "iopub.status.idle": "2024-05-25T18:21:19.736750Z",
     "shell.execute_reply": "2024-05-25T18:21:19.735912Z",
     "shell.execute_reply.started": "2024-05-25T18:21:19.724233Z"
    }
   },
   "outputs": [
    {
     "data": {
      "text/plain": [
       "Parameter containing:\n",
       "tensor([[-0.0389, -0.1708,  0.4542,  0.1290, -0.0378,  0.3958,  0.3887, -0.4622,\n",
       "         -0.2602],\n",
       "        [-0.1062,  0.4517, -0.4104, -0.5038, -0.4075, -0.4869, -0.2681, -0.0796,\n",
       "         -0.1562],\n",
       "        [-0.3831,  0.4111, -0.2013,  0.3942,  0.0564,  0.3523,  0.1620,  0.5385,\n",
       "         -0.3213],\n",
       "        [-0.0718,  0.5072, -0.4323, -0.2614, -0.4685, -0.2089, -0.2949, -0.2010,\n",
       "         -0.1957],\n",
       "        [ 0.2655, -0.1570,  0.4692, -0.1220, -0.0255, -0.3788, -0.1700,  0.3722,\n",
       "         -0.0045],\n",
       "        [-0.0904,  0.2128, -0.0811,  0.1752,  0.1027, -0.1702, -0.3547, -0.3141,\n",
       "          0.3104],\n",
       "        [-0.1619,  0.4633,  0.0820, -0.2475, -0.0879,  0.0078, -0.5467, -0.5090,\n",
       "          0.4258],\n",
       "        [ 0.2414,  0.0971, -0.2720,  0.2647, -0.3565,  0.3149, -0.2973,  0.2137,\n",
       "          0.3450],\n",
       "        [-0.4734, -0.5590, -0.0065, -0.5344,  0.4921, -0.5332, -0.1289, -0.2827,\n",
       "         -0.0144],\n",
       "        [-0.3594,  0.1720,  0.1503, -0.2230, -0.0621,  0.2518,  0.3478, -0.2333,\n",
       "         -0.3140],\n",
       "        [ 0.0939,  0.5033,  0.1619,  0.3437,  0.4145, -0.4529,  0.2973,  0.5678,\n",
       "         -0.3117],\n",
       "        [ 0.1079, -0.1000,  0.5166, -0.2236,  0.5729, -0.5203, -0.1585,  0.1124,\n",
       "          0.3407],\n",
       "        [-0.2757, -0.4137, -0.0194, -0.5534, -0.1294, -0.3637, -0.1482,  0.4692,\n",
       "          0.4522],\n",
       "        [-0.4655,  0.3700, -0.0275,  0.2475,  0.3471, -0.4246, -0.2506,  0.0038,\n",
       "          0.3830],\n",
       "        [ 0.1882,  0.3222,  0.5129, -0.4582,  0.2789, -0.2879, -0.5015, -0.2551,\n",
       "         -0.1332],\n",
       "        [ 0.2896, -0.5360,  0.4854, -0.0538,  0.4171, -0.0787,  0.0429, -0.2451,\n",
       "         -0.2506]], requires_grad=True)"
      ]
     },
     "execution_count": 20,
     "metadata": {},
     "output_type": "execute_result"
    }
   ],
   "source": [
    "net.fc1.weight"
   ]
  },
  {
   "cell_type": "markdown",
   "id": "26592edd-ee63-4fbe-b862-fe9cc32a2d8f",
   "metadata": {
    "tags": []
   },
   "source": [
    "# 5.Model Training"
   ]
  },
  {
   "cell_type": "code",
   "execution_count": 21,
   "id": "4169bd48-c636-45e0-9f86-55aff1e4d5d0",
   "metadata": {
    "execution": {
     "iopub.execute_input": "2024-05-25T18:21:19.737956Z",
     "iopub.status.busy": "2024-05-25T18:21:19.737710Z",
     "iopub.status.idle": "2024-05-25T18:22:02.934995Z",
     "shell.execute_reply": "2024-05-25T18:22:02.933448Z",
     "shell.execute_reply.started": "2024-05-25T18:21:19.737934Z"
    },
    "tags": []
   },
   "outputs": [
    {
     "ename": "RuntimeError",
     "evalue": "mat1 and mat2 must have the same dtype, but got Double and Float",
     "output_type": "error",
     "traceback": [
      "\u001b[1;31m---------------------------------------------------------------------------\u001b[0m",
      "\u001b[1;31mRuntimeError\u001b[0m                              Traceback (most recent call last)",
      "Cell \u001b[1;32mIn[21], line 4\u001b[0m\n\u001b[0;32m      2\u001b[0m \u001b[38;5;28;01mfor\u001b[39;00m features, labels \u001b[38;5;129;01min\u001b[39;00m dataloader_train:\n\u001b[0;32m      3\u001b[0m     optimizer\u001b[38;5;241m.\u001b[39mzero_grad()\n\u001b[1;32m----> 4\u001b[0m     model_predictions \u001b[38;5;241m=\u001b[39m \u001b[43mnet\u001b[49m\u001b[43m(\u001b[49m\u001b[43mfeatures\u001b[49m\u001b[43m)\u001b[49m\u001b[38;5;241m.\u001b[39msqueeze(\u001b[38;5;241m-\u001b[39m\u001b[38;5;241m1\u001b[39m)\n\u001b[0;32m      5\u001b[0m     loss \u001b[38;5;241m=\u001b[39m criterion(model_predictions, labels)\n\u001b[0;32m      6\u001b[0m     loss\u001b[38;5;241m.\u001b[39mbackward()\n",
      "File \u001b[1;32md:\\Çalışmalar\\Projeler\\GitHubRepos\\DataCampCourses\\Developing_Large_Language_Models\\environment\\lib\\site-packages\\torch\\nn\\modules\\module.py:1553\u001b[0m, in \u001b[0;36mModule._wrapped_call_impl\u001b[1;34m(self, *args, **kwargs)\u001b[0m\n\u001b[0;32m   1551\u001b[0m     \u001b[38;5;28;01mreturn\u001b[39;00m \u001b[38;5;28mself\u001b[39m\u001b[38;5;241m.\u001b[39m_compiled_call_impl(\u001b[38;5;241m*\u001b[39margs, \u001b[38;5;241m*\u001b[39m\u001b[38;5;241m*\u001b[39mkwargs)  \u001b[38;5;66;03m# type: ignore[misc]\u001b[39;00m\n\u001b[0;32m   1552\u001b[0m \u001b[38;5;28;01melse\u001b[39;00m:\n\u001b[1;32m-> 1553\u001b[0m     \u001b[38;5;28;01mreturn\u001b[39;00m \u001b[38;5;28mself\u001b[39m\u001b[38;5;241m.\u001b[39m_call_impl(\u001b[38;5;241m*\u001b[39margs, \u001b[38;5;241m*\u001b[39m\u001b[38;5;241m*\u001b[39mkwargs)\n",
      "File \u001b[1;32md:\\Çalışmalar\\Projeler\\GitHubRepos\\DataCampCourses\\Developing_Large_Language_Models\\environment\\lib\\site-packages\\torch\\nn\\modules\\module.py:1562\u001b[0m, in \u001b[0;36mModule._call_impl\u001b[1;34m(self, *args, **kwargs)\u001b[0m\n\u001b[0;32m   1557\u001b[0m \u001b[38;5;66;03m# If we don't have any hooks, we want to skip the rest of the logic in\u001b[39;00m\n\u001b[0;32m   1558\u001b[0m \u001b[38;5;66;03m# this function, and just call forward.\u001b[39;00m\n\u001b[0;32m   1559\u001b[0m \u001b[38;5;28;01mif\u001b[39;00m \u001b[38;5;129;01mnot\u001b[39;00m (\u001b[38;5;28mself\u001b[39m\u001b[38;5;241m.\u001b[39m_backward_hooks \u001b[38;5;129;01mor\u001b[39;00m \u001b[38;5;28mself\u001b[39m\u001b[38;5;241m.\u001b[39m_backward_pre_hooks \u001b[38;5;129;01mor\u001b[39;00m \u001b[38;5;28mself\u001b[39m\u001b[38;5;241m.\u001b[39m_forward_hooks \u001b[38;5;129;01mor\u001b[39;00m \u001b[38;5;28mself\u001b[39m\u001b[38;5;241m.\u001b[39m_forward_pre_hooks\n\u001b[0;32m   1560\u001b[0m         \u001b[38;5;129;01mor\u001b[39;00m _global_backward_pre_hooks \u001b[38;5;129;01mor\u001b[39;00m _global_backward_hooks\n\u001b[0;32m   1561\u001b[0m         \u001b[38;5;129;01mor\u001b[39;00m _global_forward_hooks \u001b[38;5;129;01mor\u001b[39;00m _global_forward_pre_hooks):\n\u001b[1;32m-> 1562\u001b[0m     \u001b[38;5;28;01mreturn\u001b[39;00m forward_call(\u001b[38;5;241m*\u001b[39margs, \u001b[38;5;241m*\u001b[39m\u001b[38;5;241m*\u001b[39mkwargs)\n\u001b[0;32m   1564\u001b[0m \u001b[38;5;28;01mtry\u001b[39;00m:\n\u001b[0;32m   1565\u001b[0m     result \u001b[38;5;241m=\u001b[39m \u001b[38;5;28;01mNone\u001b[39;00m\n",
      "File \u001b[1;32md:\\Çalışmalar\\Projeler\\GitHubRepos\\DataCampCourses\\Developing_Large_Language_Models\\ClassNet.py:16\u001b[0m, in \u001b[0;36mNet.forward\u001b[1;34m(self, x)\u001b[0m\n\u001b[0;32m     15\u001b[0m \u001b[38;5;28;01mdef\u001b[39;00m \u001b[38;5;21mforward\u001b[39m(\u001b[38;5;28mself\u001b[39m,x):\n\u001b[1;32m---> 16\u001b[0m     x \u001b[38;5;241m=\u001b[39m nn\u001b[38;5;241m.\u001b[39mfunctional\u001b[38;5;241m.\u001b[39mrelu(\u001b[38;5;28;43mself\u001b[39;49m\u001b[38;5;241;43m.\u001b[39;49m\u001b[43mfc1\u001b[49m\u001b[43m(\u001b[49m\u001b[43mx\u001b[49m\u001b[43m)\u001b[49m)\n\u001b[0;32m     17\u001b[0m     x \u001b[38;5;241m=\u001b[39m nn\u001b[38;5;241m.\u001b[39mfunctional\u001b[38;5;241m.\u001b[39mrelu(\u001b[38;5;28mself\u001b[39m\u001b[38;5;241m.\u001b[39mfc2(x))\n\u001b[0;32m     18\u001b[0m     x \u001b[38;5;241m=\u001b[39m nn\u001b[38;5;241m.\u001b[39mfunctional\u001b[38;5;241m.\u001b[39msigmoid(\u001b[38;5;28mself\u001b[39m\u001b[38;5;241m.\u001b[39mfc3(x))\n",
      "File \u001b[1;32md:\\Çalışmalar\\Projeler\\GitHubRepos\\DataCampCourses\\Developing_Large_Language_Models\\environment\\lib\\site-packages\\torch\\nn\\modules\\module.py:1553\u001b[0m, in \u001b[0;36mModule._wrapped_call_impl\u001b[1;34m(self, *args, **kwargs)\u001b[0m\n\u001b[0;32m   1551\u001b[0m     \u001b[38;5;28;01mreturn\u001b[39;00m \u001b[38;5;28mself\u001b[39m\u001b[38;5;241m.\u001b[39m_compiled_call_impl(\u001b[38;5;241m*\u001b[39margs, \u001b[38;5;241m*\u001b[39m\u001b[38;5;241m*\u001b[39mkwargs)  \u001b[38;5;66;03m# type: ignore[misc]\u001b[39;00m\n\u001b[0;32m   1552\u001b[0m \u001b[38;5;28;01melse\u001b[39;00m:\n\u001b[1;32m-> 1553\u001b[0m     \u001b[38;5;28;01mreturn\u001b[39;00m \u001b[38;5;28mself\u001b[39m\u001b[38;5;241m.\u001b[39m_call_impl(\u001b[38;5;241m*\u001b[39margs, \u001b[38;5;241m*\u001b[39m\u001b[38;5;241m*\u001b[39mkwargs)\n",
      "File \u001b[1;32md:\\Çalışmalar\\Projeler\\GitHubRepos\\DataCampCourses\\Developing_Large_Language_Models\\environment\\lib\\site-packages\\torch\\nn\\modules\\module.py:1562\u001b[0m, in \u001b[0;36mModule._call_impl\u001b[1;34m(self, *args, **kwargs)\u001b[0m\n\u001b[0;32m   1557\u001b[0m \u001b[38;5;66;03m# If we don't have any hooks, we want to skip the rest of the logic in\u001b[39;00m\n\u001b[0;32m   1558\u001b[0m \u001b[38;5;66;03m# this function, and just call forward.\u001b[39;00m\n\u001b[0;32m   1559\u001b[0m \u001b[38;5;28;01mif\u001b[39;00m \u001b[38;5;129;01mnot\u001b[39;00m (\u001b[38;5;28mself\u001b[39m\u001b[38;5;241m.\u001b[39m_backward_hooks \u001b[38;5;129;01mor\u001b[39;00m \u001b[38;5;28mself\u001b[39m\u001b[38;5;241m.\u001b[39m_backward_pre_hooks \u001b[38;5;129;01mor\u001b[39;00m \u001b[38;5;28mself\u001b[39m\u001b[38;5;241m.\u001b[39m_forward_hooks \u001b[38;5;129;01mor\u001b[39;00m \u001b[38;5;28mself\u001b[39m\u001b[38;5;241m.\u001b[39m_forward_pre_hooks\n\u001b[0;32m   1560\u001b[0m         \u001b[38;5;129;01mor\u001b[39;00m _global_backward_pre_hooks \u001b[38;5;129;01mor\u001b[39;00m _global_backward_hooks\n\u001b[0;32m   1561\u001b[0m         \u001b[38;5;129;01mor\u001b[39;00m _global_forward_hooks \u001b[38;5;129;01mor\u001b[39;00m _global_forward_pre_hooks):\n\u001b[1;32m-> 1562\u001b[0m     \u001b[38;5;28;01mreturn\u001b[39;00m forward_call(\u001b[38;5;241m*\u001b[39margs, \u001b[38;5;241m*\u001b[39m\u001b[38;5;241m*\u001b[39mkwargs)\n\u001b[0;32m   1564\u001b[0m \u001b[38;5;28;01mtry\u001b[39;00m:\n\u001b[0;32m   1565\u001b[0m     result \u001b[38;5;241m=\u001b[39m \u001b[38;5;28;01mNone\u001b[39;00m\n",
      "File \u001b[1;32md:\\Çalışmalar\\Projeler\\GitHubRepos\\DataCampCourses\\Developing_Large_Language_Models\\environment\\lib\\site-packages\\torch\\nn\\modules\\linear.py:117\u001b[0m, in \u001b[0;36mLinear.forward\u001b[1;34m(self, input)\u001b[0m\n\u001b[0;32m    116\u001b[0m \u001b[38;5;28;01mdef\u001b[39;00m \u001b[38;5;21mforward\u001b[39m(\u001b[38;5;28mself\u001b[39m, \u001b[38;5;28minput\u001b[39m: Tensor) \u001b[38;5;241m-\u001b[39m\u001b[38;5;241m>\u001b[39m Tensor:\n\u001b[1;32m--> 117\u001b[0m     \u001b[38;5;28;01mreturn\u001b[39;00m \u001b[43mF\u001b[49m\u001b[38;5;241;43m.\u001b[39;49m\u001b[43mlinear\u001b[49m\u001b[43m(\u001b[49m\u001b[38;5;28;43minput\u001b[39;49m\u001b[43m,\u001b[49m\u001b[43m \u001b[49m\u001b[38;5;28;43mself\u001b[39;49m\u001b[38;5;241;43m.\u001b[39;49m\u001b[43mweight\u001b[49m\u001b[43m,\u001b[49m\u001b[43m \u001b[49m\u001b[38;5;28;43mself\u001b[39;49m\u001b[38;5;241;43m.\u001b[39;49m\u001b[43mbias\u001b[49m\u001b[43m)\u001b[49m\n",
      "\u001b[1;31mRuntimeError\u001b[0m: mat1 and mat2 must have the same dtype, but got Double and Float"
     ]
    }
   ],
   "source": [
    "for epoch in range(100):\n",
    "    for features, labels in dataloader_train:\n",
    "        optimizer.zero_grad()\n",
    "        model_predictions = net(features).squeeze(-1)\n",
    "        loss = criterion(model_predictions, labels)\n",
    "        loss.backward()\n",
    "        optimizer.step()"
   ]
  },
  {
   "cell_type": "markdown",
   "id": "f2a096d0-fe7c-45be-8c4a-c50f7466e066",
   "metadata": {},
   "source": [
    "# 6.Calculating Train Loss"
   ]
  },
  {
   "cell_type": "code",
   "execution_count": 16,
   "id": "35fd1ce1-3ebe-49a3-9b56-01214a7031eb",
   "metadata": {
    "execution": {
     "iopub.execute_input": "2024-05-25T18:22:02.936504Z",
     "iopub.status.busy": "2024-05-25T18:22:02.936170Z",
     "iopub.status.idle": "2024-05-25T18:22:02.940588Z",
     "shell.execute_reply": "2024-05-25T18:22:02.939910Z",
     "shell.execute_reply.started": "2024-05-25T18:22:02.936482Z"
    },
    "tags": []
   },
   "outputs": [],
   "source": [
    "# Set the model to evaluation mode\n",
    "net.eval()\n",
    "validation_loss = 0.0\n",
    "\n",
    "with torch.no_grad():\n",
    "  \n",
    "  for data in validationloader:\n",
    "        outputs = net(data[0])\n",
    "        loss = criterion(outputs, data[1])   \n",
    "        # Sum the current loss to the validation_loss variable\n",
    "        validation_loss += loss.item()\n",
    "        \n",
    "# Calculate the mean loss value\n",
    "validation_loss_epoch = validation_loss / len(validationloader)\n",
    "print(validation_loss_epoch)\n",
    "\n",
    "# Set the model back to training mode\n",
    "net.train()"
   ]
  },
  {
   "cell_type": "markdown",
   "id": "8a3ba076-77ae-4f7b-b232-b14427226d58",
   "metadata": {},
   "source": [
    "# 7.Model Evaluation"
   ]
  },
  {
   "cell_type": "code",
   "execution_count": 19,
   "id": "03f028f1-d915-45cf-9351-316291e025fe",
   "metadata": {
    "execution": {
     "iopub.execute_input": "2024-05-25T18:22:02.941431Z",
     "iopub.status.busy": "2024-05-25T18:22:02.941275Z",
     "iopub.status.idle": "2024-05-25T18:22:03.268423Z",
     "shell.execute_reply": "2024-05-25T18:22:03.267421Z",
     "shell.execute_reply.started": "2024-05-25T18:22:02.941417Z"
    },
    "tags": []
   },
   "outputs": [
    {
     "ename": "RuntimeError",
     "evalue": "mat1 and mat2 must have the same dtype, but got Double and Float",
     "output_type": "error",
     "traceback": [
      "\u001b[1;31m---------------------------------------------------------------------------\u001b[0m",
      "\u001b[1;31mRuntimeError\u001b[0m                              Traceback (most recent call last)",
      "Cell \u001b[1;32mIn[19], line 14\u001b[0m\n\u001b[0;32m     11\u001b[0m \u001b[38;5;28;01mwith\u001b[39;00m torch\u001b[38;5;241m.\u001b[39mno_grad():\n\u001b[0;32m     12\u001b[0m     \u001b[38;5;28;01mfor\u001b[39;00m features, labels \u001b[38;5;129;01min\u001b[39;00m dataloader_test:\n\u001b[0;32m     13\u001b[0m         \u001b[38;5;66;03m# Get predicted probabilities for test data batch\u001b[39;00m\n\u001b[1;32m---> 14\u001b[0m         outputs \u001b[38;5;241m=\u001b[39m \u001b[43mnet\u001b[49m\u001b[43m(\u001b[49m\u001b[43mfeatures\u001b[49m\u001b[43m)\u001b[49m\n\u001b[0;32m     15\u001b[0m         preds \u001b[38;5;241m=\u001b[39m (outputs \u001b[38;5;241m>\u001b[39m\u001b[38;5;241m=\u001b[39m \u001b[38;5;241m0.5\u001b[39m)\u001b[38;5;241m.\u001b[39mfloat()\n\u001b[0;32m     16\u001b[0m         preds \u001b[38;5;241m=\u001b[39m torch\u001b[38;5;241m.\u001b[39msqueeze(preds,dim\u001b[38;5;241m=\u001b[39m\u001b[38;5;241m0\u001b[39m)\n",
      "File \u001b[1;32md:\\Çalışmalar\\Projeler\\GitHubRepos\\DataCampCourses\\Developing_Large_Language_Models\\environment\\lib\\site-packages\\torch\\nn\\modules\\module.py:1553\u001b[0m, in \u001b[0;36mModule._wrapped_call_impl\u001b[1;34m(self, *args, **kwargs)\u001b[0m\n\u001b[0;32m   1551\u001b[0m     \u001b[38;5;28;01mreturn\u001b[39;00m \u001b[38;5;28mself\u001b[39m\u001b[38;5;241m.\u001b[39m_compiled_call_impl(\u001b[38;5;241m*\u001b[39margs, \u001b[38;5;241m*\u001b[39m\u001b[38;5;241m*\u001b[39mkwargs)  \u001b[38;5;66;03m# type: ignore[misc]\u001b[39;00m\n\u001b[0;32m   1552\u001b[0m \u001b[38;5;28;01melse\u001b[39;00m:\n\u001b[1;32m-> 1553\u001b[0m     \u001b[38;5;28;01mreturn\u001b[39;00m \u001b[38;5;28mself\u001b[39m\u001b[38;5;241m.\u001b[39m_call_impl(\u001b[38;5;241m*\u001b[39margs, \u001b[38;5;241m*\u001b[39m\u001b[38;5;241m*\u001b[39mkwargs)\n",
      "File \u001b[1;32md:\\Çalışmalar\\Projeler\\GitHubRepos\\DataCampCourses\\Developing_Large_Language_Models\\environment\\lib\\site-packages\\torch\\nn\\modules\\module.py:1562\u001b[0m, in \u001b[0;36mModule._call_impl\u001b[1;34m(self, *args, **kwargs)\u001b[0m\n\u001b[0;32m   1557\u001b[0m \u001b[38;5;66;03m# If we don't have any hooks, we want to skip the rest of the logic in\u001b[39;00m\n\u001b[0;32m   1558\u001b[0m \u001b[38;5;66;03m# this function, and just call forward.\u001b[39;00m\n\u001b[0;32m   1559\u001b[0m \u001b[38;5;28;01mif\u001b[39;00m \u001b[38;5;129;01mnot\u001b[39;00m (\u001b[38;5;28mself\u001b[39m\u001b[38;5;241m.\u001b[39m_backward_hooks \u001b[38;5;129;01mor\u001b[39;00m \u001b[38;5;28mself\u001b[39m\u001b[38;5;241m.\u001b[39m_backward_pre_hooks \u001b[38;5;129;01mor\u001b[39;00m \u001b[38;5;28mself\u001b[39m\u001b[38;5;241m.\u001b[39m_forward_hooks \u001b[38;5;129;01mor\u001b[39;00m \u001b[38;5;28mself\u001b[39m\u001b[38;5;241m.\u001b[39m_forward_pre_hooks\n\u001b[0;32m   1560\u001b[0m         \u001b[38;5;129;01mor\u001b[39;00m _global_backward_pre_hooks \u001b[38;5;129;01mor\u001b[39;00m _global_backward_hooks\n\u001b[0;32m   1561\u001b[0m         \u001b[38;5;129;01mor\u001b[39;00m _global_forward_hooks \u001b[38;5;129;01mor\u001b[39;00m _global_forward_pre_hooks):\n\u001b[1;32m-> 1562\u001b[0m     \u001b[38;5;28;01mreturn\u001b[39;00m forward_call(\u001b[38;5;241m*\u001b[39margs, \u001b[38;5;241m*\u001b[39m\u001b[38;5;241m*\u001b[39mkwargs)\n\u001b[0;32m   1564\u001b[0m \u001b[38;5;28;01mtry\u001b[39;00m:\n\u001b[0;32m   1565\u001b[0m     result \u001b[38;5;241m=\u001b[39m \u001b[38;5;28;01mNone\u001b[39;00m\n",
      "File \u001b[1;32md:\\Çalışmalar\\Projeler\\GitHubRepos\\DataCampCourses\\Developing_Large_Language_Models\\ClassNet.py:16\u001b[0m, in \u001b[0;36mNet.forward\u001b[1;34m(self, x)\u001b[0m\n\u001b[0;32m     15\u001b[0m \u001b[38;5;28;01mdef\u001b[39;00m \u001b[38;5;21mforward\u001b[39m(\u001b[38;5;28mself\u001b[39m,x):\n\u001b[1;32m---> 16\u001b[0m     x \u001b[38;5;241m=\u001b[39m nn\u001b[38;5;241m.\u001b[39mfunctional\u001b[38;5;241m.\u001b[39mrelu(\u001b[38;5;28;43mself\u001b[39;49m\u001b[38;5;241;43m.\u001b[39;49m\u001b[43mfc1\u001b[49m\u001b[43m(\u001b[49m\u001b[43mx\u001b[49m\u001b[43m)\u001b[49m)\n\u001b[0;32m     17\u001b[0m     x \u001b[38;5;241m=\u001b[39m nn\u001b[38;5;241m.\u001b[39mfunctional\u001b[38;5;241m.\u001b[39mrelu(\u001b[38;5;28mself\u001b[39m\u001b[38;5;241m.\u001b[39mfc2(x))\n\u001b[0;32m     18\u001b[0m     x \u001b[38;5;241m=\u001b[39m nn\u001b[38;5;241m.\u001b[39mfunctional\u001b[38;5;241m.\u001b[39msigmoid(\u001b[38;5;28mself\u001b[39m\u001b[38;5;241m.\u001b[39mfc3(x))\n",
      "File \u001b[1;32md:\\Çalışmalar\\Projeler\\GitHubRepos\\DataCampCourses\\Developing_Large_Language_Models\\environment\\lib\\site-packages\\torch\\nn\\modules\\module.py:1553\u001b[0m, in \u001b[0;36mModule._wrapped_call_impl\u001b[1;34m(self, *args, **kwargs)\u001b[0m\n\u001b[0;32m   1551\u001b[0m     \u001b[38;5;28;01mreturn\u001b[39;00m \u001b[38;5;28mself\u001b[39m\u001b[38;5;241m.\u001b[39m_compiled_call_impl(\u001b[38;5;241m*\u001b[39margs, \u001b[38;5;241m*\u001b[39m\u001b[38;5;241m*\u001b[39mkwargs)  \u001b[38;5;66;03m# type: ignore[misc]\u001b[39;00m\n\u001b[0;32m   1552\u001b[0m \u001b[38;5;28;01melse\u001b[39;00m:\n\u001b[1;32m-> 1553\u001b[0m     \u001b[38;5;28;01mreturn\u001b[39;00m \u001b[38;5;28mself\u001b[39m\u001b[38;5;241m.\u001b[39m_call_impl(\u001b[38;5;241m*\u001b[39margs, \u001b[38;5;241m*\u001b[39m\u001b[38;5;241m*\u001b[39mkwargs)\n",
      "File \u001b[1;32md:\\Çalışmalar\\Projeler\\GitHubRepos\\DataCampCourses\\Developing_Large_Language_Models\\environment\\lib\\site-packages\\torch\\nn\\modules\\module.py:1562\u001b[0m, in \u001b[0;36mModule._call_impl\u001b[1;34m(self, *args, **kwargs)\u001b[0m\n\u001b[0;32m   1557\u001b[0m \u001b[38;5;66;03m# If we don't have any hooks, we want to skip the rest of the logic in\u001b[39;00m\n\u001b[0;32m   1558\u001b[0m \u001b[38;5;66;03m# this function, and just call forward.\u001b[39;00m\n\u001b[0;32m   1559\u001b[0m \u001b[38;5;28;01mif\u001b[39;00m \u001b[38;5;129;01mnot\u001b[39;00m (\u001b[38;5;28mself\u001b[39m\u001b[38;5;241m.\u001b[39m_backward_hooks \u001b[38;5;129;01mor\u001b[39;00m \u001b[38;5;28mself\u001b[39m\u001b[38;5;241m.\u001b[39m_backward_pre_hooks \u001b[38;5;129;01mor\u001b[39;00m \u001b[38;5;28mself\u001b[39m\u001b[38;5;241m.\u001b[39m_forward_hooks \u001b[38;5;129;01mor\u001b[39;00m \u001b[38;5;28mself\u001b[39m\u001b[38;5;241m.\u001b[39m_forward_pre_hooks\n\u001b[0;32m   1560\u001b[0m         \u001b[38;5;129;01mor\u001b[39;00m _global_backward_pre_hooks \u001b[38;5;129;01mor\u001b[39;00m _global_backward_hooks\n\u001b[0;32m   1561\u001b[0m         \u001b[38;5;129;01mor\u001b[39;00m _global_forward_hooks \u001b[38;5;129;01mor\u001b[39;00m _global_forward_pre_hooks):\n\u001b[1;32m-> 1562\u001b[0m     \u001b[38;5;28;01mreturn\u001b[39;00m forward_call(\u001b[38;5;241m*\u001b[39margs, \u001b[38;5;241m*\u001b[39m\u001b[38;5;241m*\u001b[39mkwargs)\n\u001b[0;32m   1564\u001b[0m \u001b[38;5;28;01mtry\u001b[39;00m:\n\u001b[0;32m   1565\u001b[0m     result \u001b[38;5;241m=\u001b[39m \u001b[38;5;28;01mNone\u001b[39;00m\n",
      "File \u001b[1;32md:\\Çalışmalar\\Projeler\\GitHubRepos\\DataCampCourses\\Developing_Large_Language_Models\\environment\\lib\\site-packages\\torch\\nn\\modules\\linear.py:117\u001b[0m, in \u001b[0;36mLinear.forward\u001b[1;34m(self, input)\u001b[0m\n\u001b[0;32m    116\u001b[0m \u001b[38;5;28;01mdef\u001b[39;00m \u001b[38;5;21mforward\u001b[39m(\u001b[38;5;28mself\u001b[39m, \u001b[38;5;28minput\u001b[39m: Tensor) \u001b[38;5;241m-\u001b[39m\u001b[38;5;241m>\u001b[39m Tensor:\n\u001b[1;32m--> 117\u001b[0m     \u001b[38;5;28;01mreturn\u001b[39;00m \u001b[43mF\u001b[49m\u001b[38;5;241;43m.\u001b[39;49m\u001b[43mlinear\u001b[49m\u001b[43m(\u001b[49m\u001b[38;5;28;43minput\u001b[39;49m\u001b[43m,\u001b[49m\u001b[43m \u001b[49m\u001b[38;5;28;43mself\u001b[39;49m\u001b[38;5;241;43m.\u001b[39;49m\u001b[43mweight\u001b[49m\u001b[43m,\u001b[49m\u001b[43m \u001b[49m\u001b[38;5;28;43mself\u001b[39;49m\u001b[38;5;241;43m.\u001b[39;49m\u001b[43mbias\u001b[49m\u001b[43m)\u001b[49m\n",
      "\u001b[1;31mRuntimeError\u001b[0m: mat1 and mat2 must have the same dtype, but got Double and Float"
     ]
    }
   ],
   "source": [
    "import torch\n",
    "from torchmetrics import Accuracy\n",
    "\n",
    "# Set up binary accuracy metric\n",
    "acc = Accuracy(task='binary')\n",
    "\n",
    "dogru_bilinen = 0\n",
    "yanlıs_bilinen =0 \n",
    "\n",
    "net.eval()\n",
    "with torch.no_grad():\n",
    "    for features, labels in dataloader_test:\n",
    "        # Get predicted probabilities for test data batch\n",
    "        outputs = net(features)\n",
    "        preds = (outputs >= 0.5).float()\n",
    "        preds = torch.squeeze(preds,dim=0)\n",
    "        labels = labels.type(torch.int64)\n",
    "        if labels== preds:\n",
    "            dogru_bilinen +=1\n",
    "        else :\n",
    "            yanlıs_bilinen +=1\n",
    "        acc(preds, labels)\n",
    "# Compute total test accuracy\n",
    "test_accuracy = acc.compute()\n",
    "print(f\"Test accuracy: {test_accuracy}\")"
   ]
  },
  {
   "cell_type": "code",
   "execution_count": null,
   "id": "0e4c5b94",
   "metadata": {},
   "outputs": [],
   "source": []
  }
 ],
 "metadata": {
  "kernelspec": {
   "display_name": "environment",
   "language": "python",
   "name": "python3"
  },
  "language_info": {
   "codemirror_mode": {
    "name": "ipython",
    "version": 3
   },
   "file_extension": ".py",
   "mimetype": "text/x-python",
   "name": "python",
   "nbconvert_exporter": "python",
   "pygments_lexer": "ipython3",
   "version": "3.10.11"
  }
 },
 "nbformat": 4,
 "nbformat_minor": 5
}
