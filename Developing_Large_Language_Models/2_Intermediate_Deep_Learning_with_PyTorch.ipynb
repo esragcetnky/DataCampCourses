{
 "cells": [
  {
   "cell_type": "markdown",
   "id": "e12c76af-6608-488a-aa88-b6ea4860b20b",
   "metadata": {},
   "source": [
    "# 0.Import Libraries"
   ]
  },
  {
   "cell_type": "code",
   "execution_count": 136,
   "id": "dcc21af3-8a0d-4292-8d79-0387ea752d9d",
   "metadata": {
    "execution": {
     "iopub.execute_input": "2024-05-25T18:21:19.598233Z",
     "iopub.status.busy": "2024-05-25T18:21:19.597695Z",
     "iopub.status.idle": "2024-05-25T18:21:19.604028Z",
     "shell.execute_reply": "2024-05-25T18:21:19.602952Z",
     "shell.execute_reply.started": "2024-05-25T18:21:19.598191Z"
    },
    "tags": []
   },
   "outputs": [],
   "source": [
    "import waterdataset_oop\n",
    "from waterdataset_oop import WaterDataset\n",
    "\n",
    "import pandas as pd"
   ]
  },
  {
   "cell_type": "markdown",
   "id": "9d259eaa-eb0d-4e90-9c2c-0c78ece2b880",
   "metadata": {},
   "source": [
    "# 1.Creating the Tensor Dataset"
   ]
  },
  {
   "cell_type": "code",
   "execution_count": 137,
   "id": "52906bb9-6f55-48a1-88af-6e78254238a9",
   "metadata": {
    "execution": {
     "iopub.execute_input": "2024-05-25T18:21:19.606103Z",
     "iopub.status.busy": "2024-05-25T18:21:19.605739Z",
     "iopub.status.idle": "2024-05-25T18:21:19.624419Z",
     "shell.execute_reply": "2024-05-25T18:21:19.623144Z",
     "shell.execute_reply.started": "2024-05-25T18:21:19.606071Z"
    },
    "tags": []
   },
   "outputs": [],
   "source": [
    "dataset_train = WaterDataset(\"DataCamp_water_train.csv\")\n",
    "dataset_test = WaterDataset(\"DataCamp_water_test.csv\")"
   ]
  },
  {
   "cell_type": "code",
   "execution_count": 138,
   "id": "c3a5c826-d154-4a2a-a439-f50e017ea0e2",
   "metadata": {
    "execution": {
     "iopub.execute_input": "2024-05-25T18:21:19.626507Z",
     "iopub.status.busy": "2024-05-25T18:21:19.625941Z",
     "iopub.status.idle": "2024-05-25T18:21:19.633306Z",
     "shell.execute_reply": "2024-05-25T18:21:19.632277Z",
     "shell.execute_reply.started": "2024-05-25T18:21:19.626466Z"
    },
    "tags": []
   },
   "outputs": [
    {
     "data": {
      "text/plain": [
       "<waterdataset_oop.WaterDataset at 0x7fbcd1a88460>"
      ]
     },
     "execution_count": 138,
     "metadata": {},
     "output_type": "execute_result"
    }
   ],
   "source": [
    "dataset_train"
   ]
  },
  {
   "cell_type": "markdown",
   "id": "1bedbcee-ae54-4517-9495-a2a70b2885cd",
   "metadata": {},
   "source": [
    "# 2.Creating the DataLoader"
   ]
  },
  {
   "cell_type": "code",
   "execution_count": 139,
   "id": "dec5697e-0731-4881-b553-71ebcd28f271",
   "metadata": {
    "execution": {
     "iopub.execute_input": "2024-05-25T18:21:19.635633Z",
     "iopub.status.busy": "2024-05-25T18:21:19.635244Z",
     "iopub.status.idle": "2024-05-25T18:21:19.641956Z",
     "shell.execute_reply": "2024-05-25T18:21:19.641147Z",
     "shell.execute_reply.started": "2024-05-25T18:21:19.635610Z"
    },
    "tags": []
   },
   "outputs": [],
   "source": [
    "from torch.utils.data import DataLoader"
   ]
  },
  {
   "cell_type": "code",
   "execution_count": 140,
   "id": "dbdb83b0-5c1d-4009-803f-eb2dcd596d5b",
   "metadata": {
    "execution": {
     "iopub.execute_input": "2024-05-25T18:21:19.643274Z",
     "iopub.status.busy": "2024-05-25T18:21:19.642927Z",
     "iopub.status.idle": "2024-05-25T18:21:19.652135Z",
     "shell.execute_reply": "2024-05-25T18:21:19.651426Z",
     "shell.execute_reply.started": "2024-05-25T18:21:19.643250Z"
    },
    "tags": []
   },
   "outputs": [],
   "source": [
    "dataloader_train = DataLoader(\n",
    "    dataset_train,\n",
    "    batch_size=2,\n",
    "    shuffle=True)"
   ]
  },
  {
   "cell_type": "code",
   "execution_count": 141,
   "id": "4322dcb9-ba45-42b6-a3e7-e7f70049e4ec",
   "metadata": {
    "execution": {
     "iopub.execute_input": "2024-05-25T18:21:19.653251Z",
     "iopub.status.busy": "2024-05-25T18:21:19.652939Z",
     "iopub.status.idle": "2024-05-25T18:21:19.664749Z",
     "shell.execute_reply": "2024-05-25T18:21:19.663742Z",
     "shell.execute_reply.started": "2024-05-25T18:21:19.653234Z"
    },
    "tags": []
   },
   "outputs": [
    {
     "name": "stdout",
     "output_type": "stream",
     "text": [
      "Features : tensor([[0.6601, 1.0000, 0.4304, 0.5288, 0.6481, 0.4982, 0.3964, 0.5200, 0.6329],\n",
      "        [0.4015, 0.3096, 0.5714, 0.6636, 0.5404, 0.3736, 0.3999, 0.2915, 0.4520]]),\n",
      "Labels : tensor([1., 1.])\n"
     ]
    }
   ],
   "source": [
    "features, labels = next(iter(dataloader_train))\n",
    "print(f\"Features : {features},\\nLabels : {labels}\")"
   ]
  },
  {
   "cell_type": "code",
   "execution_count": 142,
   "id": "f8c83b69-979d-4ffa-a3c4-99cb72ec3e25",
   "metadata": {
    "execution": {
     "iopub.execute_input": "2024-05-25T18:21:19.666627Z",
     "iopub.status.busy": "2024-05-25T18:21:19.666197Z",
     "iopub.status.idle": "2024-05-25T18:21:19.672754Z",
     "shell.execute_reply": "2024-05-25T18:21:19.671654Z",
     "shell.execute_reply.started": "2024-05-25T18:21:19.666589Z"
    },
    "tags": []
   },
   "outputs": [],
   "source": [
    "dataloader_test = DataLoader(dataset_test)"
   ]
  },
  {
   "cell_type": "code",
   "execution_count": 143,
   "id": "73ade083-c205-4ea8-a245-60e30d5ea7cf",
   "metadata": {
    "execution": {
     "iopub.execute_input": "2024-05-25T18:21:19.674647Z",
     "iopub.status.busy": "2024-05-25T18:21:19.674241Z",
     "iopub.status.idle": "2024-05-25T18:21:19.684716Z",
     "shell.execute_reply": "2024-05-25T18:21:19.683812Z",
     "shell.execute_reply.started": "2024-05-25T18:21:19.674624Z"
    },
    "tags": []
   },
   "outputs": [
    {
     "name": "stdout",
     "output_type": "stream",
     "text": [
      "Features : tensor([[0.6437, 0.4413, 0.3144, 0.4393, 0.5145, 0.3567, 0.3772, 0.2029, 0.5204]]),\n",
      "Labels : tensor([0.])\n"
     ]
    }
   ],
   "source": [
    "features, labels = next(iter(dataloader_test))\n",
    "print(f\"Features : {features},\\nLabels : {labels}\")"
   ]
  },
  {
   "cell_type": "markdown",
   "id": "5231bfdb-48c1-40fe-8154-9820d029ebc3",
   "metadata": {},
   "source": [
    "# 3.Model"
   ]
  },
  {
   "cell_type": "code",
   "execution_count": 144,
   "id": "a665f85d-564c-4404-bf4e-da86b03e4532",
   "metadata": {
    "execution": {
     "iopub.execute_input": "2024-05-25T18:21:19.686169Z",
     "iopub.status.busy": "2024-05-25T18:21:19.685695Z",
     "iopub.status.idle": "2024-05-25T18:21:19.692595Z",
     "shell.execute_reply": "2024-05-25T18:21:19.691750Z",
     "shell.execute_reply.started": "2024-05-25T18:21:19.686145Z"
    },
    "tags": []
   },
   "outputs": [],
   "source": [
    "import ClassNet\n",
    "from ClassNet import Net"
   ]
  },
  {
   "cell_type": "code",
   "execution_count": 145,
   "id": "0140af64-41c1-4aac-831d-f32396e9213e",
   "metadata": {
    "execution": {
     "iopub.execute_input": "2024-05-25T18:21:19.695088Z",
     "iopub.status.busy": "2024-05-25T18:21:19.694764Z",
     "iopub.status.idle": "2024-05-25T18:21:19.702873Z",
     "shell.execute_reply": "2024-05-25T18:21:19.702001Z",
     "shell.execute_reply.started": "2024-05-25T18:21:19.695070Z"
    },
    "tags": []
   },
   "outputs": [],
   "source": [
    "net = Net()"
   ]
  },
  {
   "cell_type": "markdown",
   "id": "68b2358c-147d-43fc-af67-2a49214699c1",
   "metadata": {},
   "source": [
    "# 4.Optimizers"
   ]
  },
  {
   "cell_type": "code",
   "execution_count": 146,
   "id": "8d83d2a3-1a9d-49c9-87fc-f952a68a5f34",
   "metadata": {
    "execution": {
     "iopub.execute_input": "2024-05-25T18:21:19.704031Z",
     "iopub.status.busy": "2024-05-25T18:21:19.703707Z",
     "iopub.status.idle": "2024-05-25T18:21:19.712683Z",
     "shell.execute_reply": "2024-05-25T18:21:19.711910Z",
     "shell.execute_reply.started": "2024-05-25T18:21:19.704013Z"
    },
    "tags": []
   },
   "outputs": [],
   "source": [
    "import torch.nn as nn\n",
    "import torch.optim as optim"
   ]
  },
  {
   "cell_type": "code",
   "execution_count": 147,
   "id": "5fee4f8b-a132-465b-a51d-5edebb402d13",
   "metadata": {
    "execution": {
     "iopub.execute_input": "2024-05-25T18:21:19.713737Z",
     "iopub.status.busy": "2024-05-25T18:21:19.713483Z",
     "iopub.status.idle": "2024-05-25T18:21:19.723083Z",
     "shell.execute_reply": "2024-05-25T18:21:19.722323Z",
     "shell.execute_reply.started": "2024-05-25T18:21:19.713720Z"
    },
    "tags": []
   },
   "outputs": [],
   "source": [
    "criterion = nn.BCELoss()\n",
    "optimizer = optim.SGD(net.parameters(),\n",
    "                      lr=0.001,\n",
    "                      momentum=0 )"
   ]
  },
  {
   "cell_type": "code",
   "execution_count": 148,
   "id": "30e4b7f6-8ae4-4a4a-a13f-6fb4b46d4b80",
   "metadata": {
    "execution": {
     "iopub.execute_input": "2024-05-25T18:21:19.724251Z",
     "iopub.status.busy": "2024-05-25T18:21:19.723930Z",
     "iopub.status.idle": "2024-05-25T18:21:19.736750Z",
     "shell.execute_reply": "2024-05-25T18:21:19.735912Z",
     "shell.execute_reply.started": "2024-05-25T18:21:19.724233Z"
    }
   },
   "outputs": [
    {
     "data": {
      "text/plain": [
       "Parameter containing:\n",
       "tensor([[-0.1194,  0.5121,  0.3465, -0.2138, -0.3379, -0.0813,  0.4300, -0.5536,\n",
       "         -0.4216],\n",
       "        [ 0.1807, -0.0349,  0.4137, -0.5114, -0.1895,  0.0009,  0.0097,  0.3223,\n",
       "         -0.4194],\n",
       "        [-0.0272, -0.4016,  0.1786, -0.5728, -0.2873, -0.3135,  0.0505, -0.2494,\n",
       "         -0.2813],\n",
       "        [-0.0484, -0.5519,  0.1767, -0.0796, -0.0753, -0.3095,  0.2113, -0.3173,\n",
       "         -0.5256],\n",
       "        [-0.2998,  0.2100, -0.4576, -0.3483, -0.5384,  0.3450,  0.0014, -0.1049,\n",
       "         -0.5521],\n",
       "        [-0.0886,  0.5400, -0.1136,  0.3549,  0.0046,  0.5481, -0.0743, -0.0219,\n",
       "         -0.0208],\n",
       "        [-0.2131,  0.2590, -0.1622,  0.4538,  0.2049,  0.1931,  0.0129,  0.5172,\n",
       "         -0.4385],\n",
       "        [ 0.4942,  0.1249, -0.5503,  0.5306, -0.5280, -0.3647, -0.0468,  0.1908,\n",
       "          0.2954],\n",
       "        [-0.3211, -0.0888,  0.1095,  0.4472, -0.4445,  0.3404,  0.1275, -0.3353,\n",
       "         -0.4803],\n",
       "        [-0.3664, -0.4955, -0.1861,  0.0297,  0.1668,  0.0729, -0.1976, -0.3567,\n",
       "          0.3538],\n",
       "        [-0.0693,  0.1504,  0.3157, -0.0496,  0.2354, -0.4924,  0.3290,  0.2591,\n",
       "          0.4003],\n",
       "        [ 0.1094,  0.3850, -0.0369,  0.2128, -0.5503, -0.0603, -0.5287, -0.2812,\n",
       "         -0.3189],\n",
       "        [ 0.4701, -0.1373,  0.3316, -0.0580, -0.1829, -0.1176,  0.2527, -0.4827,\n",
       "          0.5060],\n",
       "        [ 0.3245,  0.0743,  0.1818,  0.1978, -0.5575,  0.2762,  0.1137, -0.1001,\n",
       "         -0.0107],\n",
       "        [ 0.2262,  0.2983,  0.2076,  0.1883, -0.0159, -0.1775,  0.2185, -0.1231,\n",
       "          0.5378],\n",
       "        [-0.3123,  0.4983,  0.3636, -0.3772, -0.1399,  0.4564,  0.4897, -0.4614,\n",
       "         -0.2995]], requires_grad=True)"
      ]
     },
     "execution_count": 148,
     "metadata": {},
     "output_type": "execute_result"
    }
   ],
   "source": [
    "# net.fc1.weight"
   ]
  },
  {
   "cell_type": "markdown",
   "id": "26592edd-ee63-4fbe-b862-fe9cc32a2d8f",
   "metadata": {
    "tags": []
   },
   "source": [
    "# 5.Model Training"
   ]
  },
  {
   "cell_type": "code",
   "execution_count": 149,
   "id": "4169bd48-c636-45e0-9f86-55aff1e4d5d0",
   "metadata": {
    "execution": {
     "iopub.execute_input": "2024-05-25T18:21:19.737956Z",
     "iopub.status.busy": "2024-05-25T18:21:19.737710Z",
     "iopub.status.idle": "2024-05-25T18:22:02.934995Z",
     "shell.execute_reply": "2024-05-25T18:22:02.933448Z",
     "shell.execute_reply.started": "2024-05-25T18:21:19.737934Z"
    },
    "tags": []
   },
   "outputs": [],
   "source": [
    "for epoch in range(100):\n",
    "    for features, labels in dataloader_train:\n",
    "        optimizer.zero_grad()\n",
    "        model_predictions = net(features).squeeze(-1)\n",
    "        loss = criterion(model_predictions, labels)\n",
    "        loss.backward()\n",
    "        optimizer.step()"
   ]
  },
  {
   "cell_type": "markdown",
   "id": "f2a096d0-fe7c-45be-8c4a-c50f7466e066",
   "metadata": {},
   "source": [
    "# 6.Calculating Train Loss"
   ]
  },
  {
   "cell_type": "code",
   "execution_count": 150,
   "id": "35fd1ce1-3ebe-49a3-9b56-01214a7031eb",
   "metadata": {
    "execution": {
     "iopub.execute_input": "2024-05-25T18:22:02.936504Z",
     "iopub.status.busy": "2024-05-25T18:22:02.936170Z",
     "iopub.status.idle": "2024-05-25T18:22:02.940588Z",
     "shell.execute_reply": "2024-05-25T18:22:02.939910Z",
     "shell.execute_reply.started": "2024-05-25T18:22:02.936482Z"
    },
    "tags": []
   },
   "outputs": [],
   "source": [
    "# # Set the model to evaluation mode\n",
    "# net.eval()\n",
    "# validation_loss = 0.0\n",
    "\n",
    "# with torch.no_grad():\n",
    "  \n",
    "#   for data in validationloader:\n",
    "#         outputs = net(data[0])\n",
    "#         loss = criterion(outputs, data[1])   \n",
    "#         # Sum the current loss to the validation_loss variable\n",
    "#         validation_loss += loss.item()\n",
    "        \n",
    "# # Calculate the mean loss value\n",
    "# validation_loss_epoch = validation_loss / len(validationloader)\n",
    "# print(validation_loss_epoch)\n",
    "\n",
    "# # Set the model back to training mode\n",
    "# net.train()"
   ]
  },
  {
   "cell_type": "markdown",
   "id": "8a3ba076-77ae-4f7b-b232-b14427226d58",
   "metadata": {},
   "source": [
    "# 7.Model Evaluation"
   ]
  },
  {
   "cell_type": "code",
   "execution_count": 151,
   "id": "03f028f1-d915-45cf-9351-316291e025fe",
   "metadata": {
    "execution": {
     "iopub.execute_input": "2024-05-25T18:22:02.941431Z",
     "iopub.status.busy": "2024-05-25T18:22:02.941275Z",
     "iopub.status.idle": "2024-05-25T18:22:03.268423Z",
     "shell.execute_reply": "2024-05-25T18:22:03.267421Z",
     "shell.execute_reply.started": "2024-05-25T18:22:02.941417Z"
    },
    "tags": []
   },
   "outputs": [
    {
     "name": "stdout",
     "output_type": "stream",
     "text": [
      "Test accuracy: 0.5904572606086731\n"
     ]
    }
   ],
   "source": [
    "import torch\n",
    "from torchmetrics import Accuracy\n",
    "\n",
    "# Set up binary accuracy metric\n",
    "acc = Accuracy(task='binary')\n",
    "\n",
    "dogru_bilinen = 0\n",
    "yanlıs_bilinen =0 \n",
    "\n",
    "net.eval()\n",
    "with torch.no_grad():\n",
    "    for features, labels in dataloader_test:\n",
    "        # Get predicted probabilities for test data batch\n",
    "        outputs = net(features)\n",
    "        preds = (outputs >= 0.5).float()\n",
    "        preds = torch.squeeze(preds,dim=0)\n",
    "        labels = labels.type(torch.int64)\n",
    "        if labels== preds:\n",
    "            dogru_bilinen +=1\n",
    "        else :\n",
    "            yanlıs_bilinen +=1\n",
    "        acc(preds, labels)\n",
    "# Compute total test accuracy\n",
    "test_accuracy = acc.compute()\n",
    "print(f\"Test accuracy: {test_accuracy}\")"
   ]
  }
 ],
 "metadata": {
  "kernelspec": {
   "display_name": "Python 3 (ipykernel)",
   "language": "python",
   "name": "python3"
  },
  "language_info": {
   "codemirror_mode": {
    "name": "ipython",
    "version": 3
   },
   "file_extension": ".py",
   "mimetype": "text/x-python",
   "name": "python",
   "nbconvert_exporter": "python",
   "pygments_lexer": "ipython3",
   "version": "3.9.13"
  }
 },
 "nbformat": 4,
 "nbformat_minor": 5
}
