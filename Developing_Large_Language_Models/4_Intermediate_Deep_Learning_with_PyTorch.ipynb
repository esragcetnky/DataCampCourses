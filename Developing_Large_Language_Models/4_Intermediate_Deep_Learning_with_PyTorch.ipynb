{
 "cells": [
  {
   "cell_type": "markdown",
   "id": "8573a8c5-b8b3-4eb6-85f5-d2895f3ce91c",
   "metadata": {},
   "source": [
    "# 0.Import Libraries"
   ]
  },
  {
   "cell_type": "code",
   "execution_count": 30,
   "id": "fef1cafa-8fc8-4330-bb33-a4980d9b3e20",
   "metadata": {
    "execution": {
     "iopub.execute_input": "2024-05-26T14:33:02.245380Z",
     "iopub.status.busy": "2024-05-26T14:33:02.244862Z",
     "iopub.status.idle": "2024-05-26T14:33:02.251637Z",
     "shell.execute_reply": "2024-05-26T14:33:02.250670Z",
     "shell.execute_reply.started": "2024-05-26T14:33:02.245336Z"
    },
    "tags": []
   },
   "outputs": [],
   "source": [
    "import numpy as np\n",
    "import pandas as pd\n",
    "import matplotlib.pyplot as plt\n",
    "\n",
    "import torch\n",
    "from torch.utils.data import TensorDataset"
   ]
  },
  {
   "cell_type": "markdown",
   "id": "82398844-d218-4898-8fe1-3a58ec08d2eb",
   "metadata": {},
   "source": [
    "# 1.Load Dataset"
   ]
  },
  {
   "cell_type": "code",
   "execution_count": 24,
   "id": "6f711d57-9de7-449f-94f8-6ef83dfd6976",
   "metadata": {
    "execution": {
     "iopub.execute_input": "2024-05-26T14:32:02.510970Z",
     "iopub.status.busy": "2024-05-26T14:32:02.510466Z",
     "iopub.status.idle": "2024-05-26T14:32:02.613959Z",
     "shell.execute_reply": "2024-05-26T14:32:02.612981Z",
     "shell.execute_reply.started": "2024-05-26T14:32:02.510927Z"
    },
    "tags": []
   },
   "outputs": [],
   "source": [
    "train = pd.read_csv(\"DataCamp_electricity_train.csv\")\n",
    "test = pd.read_csv(\"DataCamp_electricity_test.csv\")"
   ]
  },
  {
   "cell_type": "code",
   "execution_count": 25,
   "id": "2923b4ff-cf06-40f0-b7d6-034841911cac",
   "metadata": {
    "execution": {
     "iopub.execute_input": "2024-05-26T14:32:03.525706Z",
     "iopub.status.busy": "2024-05-26T14:32:03.525226Z",
     "iopub.status.idle": "2024-05-26T14:32:03.551413Z",
     "shell.execute_reply": "2024-05-26T14:32:03.550631Z",
     "shell.execute_reply.started": "2024-05-26T14:32:03.525665Z"
    },
    "tags": []
   },
   "outputs": [
    {
     "name": "stdout",
     "output_type": "stream",
     "text": [
      "<class 'pandas.core.frame.DataFrame'>\n",
      "RangeIndex: 105215 entries, 0 to 105214\n",
      "Data columns (total 2 columns):\n",
      " #   Column       Non-Null Count   Dtype  \n",
      "---  ------       --------------   -----  \n",
      " 0   timestamp    105215 non-null  object \n",
      " 1   consumption  105215 non-null  float64\n",
      "dtypes: float64(1), object(1)\n",
      "memory usage: 1.6+ MB\n"
     ]
    }
   ],
   "source": [
    "train.info()"
   ]
  },
  {
   "cell_type": "code",
   "execution_count": 26,
   "id": "e4801d84-956e-4391-adc4-b8692cb79137",
   "metadata": {
    "execution": {
     "iopub.execute_input": "2024-05-26T14:32:09.461634Z",
     "iopub.status.busy": "2024-05-26T14:32:09.461149Z",
     "iopub.status.idle": "2024-05-26T14:32:09.480831Z",
     "shell.execute_reply": "2024-05-26T14:32:09.479832Z",
     "shell.execute_reply.started": "2024-05-26T14:32:09.461593Z"
    }
   },
   "outputs": [
    {
     "name": "stdout",
     "output_type": "stream",
     "text": [
      "<class 'pandas.core.frame.DataFrame'>\n",
      "RangeIndex: 35040 entries, 0 to 35039\n",
      "Data columns (total 2 columns):\n",
      " #   Column       Non-Null Count  Dtype  \n",
      "---  ------       --------------  -----  \n",
      " 0   timestamp    35040 non-null  object \n",
      " 1   consumption  35040 non-null  float64\n",
      "dtypes: float64(1), object(1)\n",
      "memory usage: 547.6+ KB\n"
     ]
    }
   ],
   "source": [
    "test.info()"
   ]
  },
  {
   "cell_type": "markdown",
   "id": "71232a72-39f4-4aef-9abe-02cd632f4c97",
   "metadata": {},
   "source": [
    "# 2.Creating Sequences Function"
   ]
  },
  {
   "cell_type": "code",
   "execution_count": 27,
   "id": "01677ff4-ecbe-449a-baa1-fda1b260d78d",
   "metadata": {
    "execution": {
     "iopub.execute_input": "2024-05-26T14:32:17.466008Z",
     "iopub.status.busy": "2024-05-26T14:32:17.465524Z",
     "iopub.status.idle": "2024-05-26T14:32:17.474155Z",
     "shell.execute_reply": "2024-05-26T14:32:17.473069Z",
     "shell.execute_reply.started": "2024-05-26T14:32:17.465967Z"
    },
    "tags": []
   },
   "outputs": [],
   "source": [
    "def create_sequences(df, seq_length):\n",
    "    xs, ys = [], []\n",
    "    for i in range(len(df) - seq_length):\n",
    "        x = df.iloc[i:(i+seq_length), 1]\n",
    "        y = df.iloc[i+seq_length, 1]\n",
    "        xs.append(x)\n",
    "        ys.append(y)\n",
    "    return np.array(xs), np.array(ys)"
   ]
  },
  {
   "cell_type": "code",
   "execution_count": 28,
   "id": "da79d072-a977-423e-8126-01213c1bc8ec",
   "metadata": {
    "execution": {
     "iopub.execute_input": "2024-05-26T14:32:18.106619Z",
     "iopub.status.busy": "2024-05-26T14:32:18.106163Z",
     "iopub.status.idle": "2024-05-26T14:32:26.808116Z",
     "shell.execute_reply": "2024-05-26T14:32:26.806877Z",
     "shell.execute_reply.started": "2024-05-26T14:32:18.106579Z"
    },
    "tags": []
   },
   "outputs": [],
   "source": [
    "X_train, y_train = create_sequences(train, 96)"
   ]
  },
  {
   "cell_type": "code",
   "execution_count": 29,
   "id": "68f04035-70fe-4fc8-9196-c0dedaa93b63",
   "metadata": {
    "execution": {
     "iopub.execute_input": "2024-05-26T14:32:26.821422Z",
     "iopub.status.busy": "2024-05-26T14:32:26.821268Z",
     "iopub.status.idle": "2024-05-26T14:32:26.826410Z",
     "shell.execute_reply": "2024-05-26T14:32:26.825329Z",
     "shell.execute_reply.started": "2024-05-26T14:32:26.821409Z"
    },
    "tags": []
   },
   "outputs": [
    {
     "data": {
      "text/plain": [
       "((105119, 96), (105119,))"
      ]
     },
     "execution_count": 29,
     "metadata": {},
     "output_type": "execute_result"
    }
   ],
   "source": [
    "X_train.shape, y_train.shape"
   ]
  },
  {
   "cell_type": "markdown",
   "id": "85fb1f12-590c-48fc-9e39-b745d06eeb93",
   "metadata": {},
   "source": [
    "# 3.Convert data to Torch Dataset"
   ]
  },
  {
   "cell_type": "code",
   "execution_count": 31,
   "id": "535d1c54-7cb7-46e6-9dde-a23a7ccca710",
   "metadata": {
    "execution": {
     "iopub.execute_input": "2024-05-26T14:34:02.257220Z",
     "iopub.status.busy": "2024-05-26T14:34:02.256493Z",
     "iopub.status.idle": "2024-05-26T14:34:02.301863Z",
     "shell.execute_reply": "2024-05-26T14:34:02.300862Z",
     "shell.execute_reply.started": "2024-05-26T14:34:02.257174Z"
    }
   },
   "outputs": [],
   "source": [
    "dataset_train = TensorDataset(\n",
    "    torch.from_numpy(X_train).float(),\n",
    "    torch.from_numpy(y_train).float()\n",
    ")"
   ]
  },
  {
   "cell_type": "code",
   "execution_count": null,
   "id": "ad0a9d1a-950e-4acd-8903-d929e69cea15",
   "metadata": {},
   "outputs": [],
   "source": []
  }
 ],
 "metadata": {
  "kernelspec": {
   "display_name": "Python 3 (ipykernel)",
   "language": "python",
   "name": "python3"
  },
  "language_info": {
   "codemirror_mode": {
    "name": "ipython",
    "version": 3
   },
   "file_extension": ".py",
   "mimetype": "text/x-python",
   "name": "python",
   "nbconvert_exporter": "python",
   "pygments_lexer": "ipython3",
   "version": "3.9.13"
  }
 },
 "nbformat": 4,
 "nbformat_minor": 5
}
