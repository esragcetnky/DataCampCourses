{
 "cells": [
  {
   "cell_type": "markdown",
   "metadata": {},
   "source": [
    "# 0.Import Libraries"
   ]
  },
  {
   "cell_type": "code",
   "execution_count": 5,
   "metadata": {
    "execution": {
     "iopub.execute_input": "2024-05-12T11:01:34.734787Z",
     "iopub.status.busy": "2024-05-12T11:01:34.734116Z",
     "iopub.status.idle": "2024-05-12T11:01:34.743346Z",
     "shell.execute_reply": "2024-05-12T11:01:34.742249Z",
     "shell.execute_reply.started": "2024-05-12T11:01:34.734740Z"
    },
    "tags": []
   },
   "outputs": [],
   "source": [
    "import torch\n",
    "\n",
    "import numpy as np\n",
    "import pandas as pd \n",
    "import matplotlib.pyplot as plt\n",
    "\n",
    "plt.style.use('ggplot')\n",
    "from pylab import rcParams\n",
    "rcParams['figure.figsize']=24,10"
   ]
  },
  {
   "cell_type": "markdown",
   "metadata": {},
   "source": [
    "# 1.First Neural Network"
   ]
  },
  {
   "cell_type": "code",
   "execution_count": 6,
   "metadata": {
    "execution": {
     "iopub.execute_input": "2024-05-12T11:01:36.214087Z",
     "iopub.status.busy": "2024-05-12T11:01:36.213585Z",
     "iopub.status.idle": "2024-05-12T11:01:36.219736Z",
     "shell.execute_reply": "2024-05-12T11:01:36.218624Z",
     "shell.execute_reply.started": "2024-05-12T11:01:36.214046Z"
    },
    "tags": []
   },
   "outputs": [],
   "source": [
    "import torch.nn as nn"
   ]
  },
  {
   "cell_type": "code",
   "execution_count": 7,
   "metadata": {
    "execution": {
     "iopub.execute_input": "2024-05-08T12:43:29.780765Z",
     "iopub.status.busy": "2024-05-08T12:43:29.780054Z",
     "iopub.status.idle": "2024-05-08T12:43:29.787321Z",
     "shell.execute_reply": "2024-05-08T12:43:29.786171Z",
     "shell.execute_reply.started": "2024-05-08T12:43:29.780714Z"
    }
   },
   "outputs": [],
   "source": [
    "input_tensor=torch.tensor([0.34, 0.45, -0.23])"
   ]
  },
  {
   "cell_type": "code",
   "execution_count": 8,
   "metadata": {
    "execution": {
     "iopub.execute_input": "2024-05-08T12:43:49.567898Z",
     "iopub.status.busy": "2024-05-08T12:43:49.567145Z",
     "iopub.status.idle": "2024-05-08T12:43:49.576688Z",
     "shell.execute_reply": "2024-05-08T12:43:49.575418Z",
     "shell.execute_reply.started": "2024-05-08T12:43:49.567838Z"
    }
   },
   "outputs": [],
   "source": [
    "linear_layer = nn.Linear(in_features=3, out_features=2)"
   ]
  },
  {
   "cell_type": "code",
   "execution_count": 9,
   "metadata": {
    "execution": {
     "iopub.execute_input": "2024-05-08T12:44:07.170628Z",
     "iopub.status.busy": "2024-05-08T12:44:07.170070Z",
     "iopub.status.idle": "2024-05-08T12:44:07.180448Z",
     "shell.execute_reply": "2024-05-08T12:44:07.179283Z",
     "shell.execute_reply.started": "2024-05-08T12:44:07.170586Z"
    }
   },
   "outputs": [
    {
     "data": {
      "text/plain": [
       "tensor([-0.2865,  0.3412], grad_fn=<ViewBackward0>)"
      ]
     },
     "execution_count": 9,
     "metadata": {},
     "output_type": "execute_result"
    }
   ],
   "source": [
    "output = linear_layer(input_tensor)\n",
    "output"
   ]
  },
  {
   "cell_type": "code",
   "execution_count": 10,
   "metadata": {
    "execution": {
     "iopub.execute_input": "2024-05-08T12:46:35.362179Z",
     "iopub.status.busy": "2024-05-08T12:46:35.361633Z",
     "iopub.status.idle": "2024-05-08T12:46:35.371475Z",
     "shell.execute_reply": "2024-05-08T12:46:35.370336Z",
     "shell.execute_reply.started": "2024-05-08T12:46:35.362137Z"
    },
    "tags": []
   },
   "outputs": [
    {
     "data": {
      "text/plain": [
       "Parameter containing:\n",
       "tensor([[ 0.4043, -0.1267,  0.5539],\n",
       "        [ 0.3641,  0.5579, -0.4660]], requires_grad=True)"
      ]
     },
     "execution_count": 10,
     "metadata": {},
     "output_type": "execute_result"
    }
   ],
   "source": [
    "linear_layer.weight"
   ]
  },
  {
   "cell_type": "code",
   "execution_count": 11,
   "metadata": {
    "execution": {
     "iopub.execute_input": "2024-05-08T12:45:02.706731Z",
     "iopub.status.busy": "2024-05-08T12:45:02.706172Z",
     "iopub.status.idle": "2024-05-08T12:45:02.715747Z",
     "shell.execute_reply": "2024-05-08T12:45:02.714640Z",
     "shell.execute_reply.started": "2024-05-08T12:45:02.706689Z"
    }
   },
   "outputs": [
    {
     "data": {
      "text/plain": [
       "Parameter containing:\n",
       "tensor([-0.2396, -0.1408], requires_grad=True)"
      ]
     },
     "execution_count": 11,
     "metadata": {},
     "output_type": "execute_result"
    }
   ],
   "source": [
    "linear_layer.bias"
   ]
  },
  {
   "cell_type": "markdown",
   "metadata": {},
   "source": [
    "# 2.Stacking Layers with nn.Sequentials"
   ]
  },
  {
   "cell_type": "code",
   "execution_count": 12,
   "metadata": {},
   "outputs": [],
   "source": [
    "model_one=nn.Sequential(nn.Linear(10,18),\n",
    "                        nn.Linear(18,20),\n",
    "                        nn.Linear(20,25))"
   ]
  },
  {
   "cell_type": "markdown",
   "metadata": {},
   "source": [
    "# 3.Activation Functions\n",
    "## 3.1 Sigmoid"
   ]
  },
  {
   "cell_type": "code",
   "execution_count": 13,
   "metadata": {
    "execution": {
     "iopub.execute_input": "2024-05-08T12:54:50.839742Z",
     "iopub.status.busy": "2024-05-08T12:54:50.839188Z",
     "iopub.status.idle": "2024-05-08T12:54:50.847214Z",
     "shell.execute_reply": "2024-05-08T12:54:50.845694Z",
     "shell.execute_reply.started": "2024-05-08T12:54:50.839700Z"
    }
   },
   "outputs": [],
   "source": [
    "input_tensor =  torch.tensor([[6.0]])\n",
    "sigmoid = nn.Sigmoid()\n",
    "output = sigmoid(input_tensor)"
   ]
  },
  {
   "cell_type": "code",
   "execution_count": 14,
   "metadata": {
    "execution": {
     "iopub.execute_input": "2024-05-08T12:54:58.040943Z",
     "iopub.status.busy": "2024-05-08T12:54:58.040207Z",
     "iopub.status.idle": "2024-05-08T12:54:58.048741Z",
     "shell.execute_reply": "2024-05-08T12:54:58.047891Z",
     "shell.execute_reply.started": "2024-05-08T12:54:58.040894Z"
    }
   },
   "outputs": [
    {
     "data": {
      "text/plain": [
       "tensor([[0.9975]])"
      ]
     },
     "execution_count": 14,
     "metadata": {},
     "output_type": "execute_result"
    }
   ],
   "source": [
    "output"
   ]
  },
  {
   "cell_type": "markdown",
   "metadata": {},
   "source": [
    "## 3.2 Softmax "
   ]
  },
  {
   "cell_type": "code",
   "execution_count": 15,
   "metadata": {
    "execution": {
     "iopub.execute_input": "2024-05-08T12:58:20.938764Z",
     "iopub.status.busy": "2024-05-08T12:58:20.938221Z",
     "iopub.status.idle": "2024-05-08T12:58:20.949444Z",
     "shell.execute_reply": "2024-05-08T12:58:20.948437Z",
     "shell.execute_reply.started": "2024-05-08T12:58:20.938722Z"
    }
   },
   "outputs": [
    {
     "data": {
      "text/plain": [
       "tensor([[0.1392, 0.8420, 0.0188]])"
      ]
     },
     "execution_count": 15,
     "metadata": {},
     "output_type": "execute_result"
    }
   ],
   "source": [
    "input_tensor = torch.tensor([[4.3,6.1,2.3]])\n",
    "\n",
    "probabilities = nn.Softmax(dim=-1)\n",
    "output_tensor = probabilities(input_tensor)\n",
    "\n",
    "output_tensor"
   ]
  },
  {
   "cell_type": "markdown",
   "metadata": {},
   "source": [
    "# 4.Forward Pass\n",
    "## 4.1 Binary Classification"
   ]
  },
  {
   "cell_type": "code",
   "execution_count": 16,
   "metadata": {
    "execution": {
     "iopub.execute_input": "2024-05-08T13:03:37.615672Z",
     "iopub.status.busy": "2024-05-08T13:03:37.615121Z",
     "iopub.status.idle": "2024-05-08T13:03:37.627112Z",
     "shell.execute_reply": "2024-05-08T13:03:37.625580Z",
     "shell.execute_reply.started": "2024-05-08T13:03:37.615631Z"
    }
   },
   "outputs": [
    {
     "name": "stdout",
     "output_type": "stream",
     "text": [
      "tensor([[0.1803]], grad_fn=<SigmoidBackward0>)\n"
     ]
    }
   ],
   "source": [
    "input_tensor = torch.Tensor([[3, 4, 6, 2, 3, 6, 8, 9]])\n",
    "\n",
    "# Implement a small neural network for binary classification\n",
    "model = nn.Sequential(\n",
    "  nn.Linear(8,1),\n",
    "  nn.Sigmoid()\n",
    ")\n",
    "\n",
    "output = model(input_tensor)\n",
    "print(output)"
   ]
  },
  {
   "cell_type": "markdown",
   "metadata": {},
   "source": [
    "## 4.2 Multi Class Classification"
   ]
  },
  {
   "cell_type": "code",
   "execution_count": 17,
   "metadata": {
    "execution": {
     "iopub.execute_input": "2024-05-08T13:29:10.043934Z",
     "iopub.status.busy": "2024-05-08T13:29:10.043245Z",
     "iopub.status.idle": "2024-05-08T13:29:10.055546Z",
     "shell.execute_reply": "2024-05-08T13:29:10.054500Z",
     "shell.execute_reply.started": "2024-05-08T13:29:10.043892Z"
    }
   },
   "outputs": [
    {
     "name": "stdout",
     "output_type": "stream",
     "text": [
      "tensor([[0.2444, 0.1882, 0.3356, 0.2318]], grad_fn=<SoftmaxBackward0>)\n"
     ]
    }
   ],
   "source": [
    "input_tensor = torch.Tensor([[3, 4, 6, 7, 10, 12, 2, 3, 6, 8, 9]])\n",
    "\n",
    "# Update network below to perform a multi-class classification with four labels\n",
    "model = nn.Sequential(\n",
    "  nn.Linear(11, 20),\n",
    "  nn.Linear(20, 12),\n",
    "  nn.Linear(12, 6),\n",
    "  nn.Linear(6, 4), \n",
    "  nn.Softmax(dim=-1)\n",
    ")\n",
    "\n",
    "output = model(input_tensor)\n",
    "print(output)"
   ]
  },
  {
   "cell_type": "markdown",
   "metadata": {},
   "source": [
    "## 4.3 Regression"
   ]
  },
  {
   "cell_type": "code",
   "execution_count": 18,
   "metadata": {
    "execution": {
     "iopub.execute_input": "2024-05-08T13:29:28.125950Z",
     "iopub.status.busy": "2024-05-08T13:29:28.125405Z",
     "iopub.status.idle": "2024-05-08T13:29:28.138149Z",
     "shell.execute_reply": "2024-05-08T13:29:28.136906Z",
     "shell.execute_reply.started": "2024-05-08T13:29:28.125908Z"
    }
   },
   "outputs": [
    {
     "name": "stdout",
     "output_type": "stream",
     "text": [
      "tensor([[-0.7540]], grad_fn=<AddmmBackward0>)\n"
     ]
    }
   ],
   "source": [
    "input_tensor = torch.Tensor([[3, 4, 6, 7, 10, 12, 2, 3, 6, 8, 9]])\n",
    "\n",
    "# Implement a neural network with exactly four linear layers\n",
    "model = nn.Sequential(nn.Linear(11,8),\n",
    "                      nn.Linear(8,5),\n",
    "                      nn.Linear(5,2),\n",
    "                      nn.Linear(2,1))\n",
    "\n",
    "output = model(input_tensor)\n",
    "print(output)"
   ]
  },
  {
   "cell_type": "markdown",
   "metadata": {},
   "source": [
    "# 5.Loss Function"
   ]
  },
  {
   "cell_type": "code",
   "execution_count": 19,
   "metadata": {
    "execution": {
     "iopub.execute_input": "2024-05-12T11:01:41.076667Z",
     "iopub.status.busy": "2024-05-12T11:01:41.076120Z",
     "iopub.status.idle": "2024-05-12T11:01:41.082298Z",
     "shell.execute_reply": "2024-05-12T11:01:41.081261Z",
     "shell.execute_reply.started": "2024-05-12T11:01:41.076626Z"
    },
    "tags": []
   },
   "outputs": [],
   "source": [
    "import torch.nn.functional as F"
   ]
  },
  {
   "cell_type": "code",
   "execution_count": 20,
   "metadata": {
    "execution": {
     "iopub.execute_input": "2024-05-08T13:33:26.835954Z",
     "iopub.status.busy": "2024-05-08T13:33:26.835408Z",
     "iopub.status.idle": "2024-05-08T13:33:26.845081Z",
     "shell.execute_reply": "2024-05-08T13:33:26.844037Z",
     "shell.execute_reply.started": "2024-05-08T13:33:26.835913Z"
    }
   },
   "outputs": [
    {
     "data": {
      "text/plain": [
       "tensor([1, 0, 0])"
      ]
     },
     "execution_count": 20,
     "metadata": {},
     "output_type": "execute_result"
    }
   ],
   "source": [
    "F.one_hot(torch.tensor(0), num_classes=3)"
   ]
  },
  {
   "cell_type": "code",
   "execution_count": 21,
   "metadata": {
    "execution": {
     "iopub.execute_input": "2024-05-08T13:33:41.274516Z",
     "iopub.status.busy": "2024-05-08T13:33:41.273969Z",
     "iopub.status.idle": "2024-05-08T13:33:41.283193Z",
     "shell.execute_reply": "2024-05-08T13:33:41.282291Z",
     "shell.execute_reply.started": "2024-05-08T13:33:41.274475Z"
    }
   },
   "outputs": [
    {
     "data": {
      "text/plain": [
       "tensor([0, 1, 0])"
      ]
     },
     "execution_count": 21,
     "metadata": {},
     "output_type": "execute_result"
    }
   ],
   "source": [
    "F.one_hot(torch.tensor(1), num_classes=3)"
   ]
  },
  {
   "cell_type": "code",
   "execution_count": 22,
   "metadata": {
    "execution": {
     "iopub.execute_input": "2024-05-08T13:34:04.730491Z",
     "iopub.status.busy": "2024-05-08T13:34:04.729947Z",
     "iopub.status.idle": "2024-05-08T13:34:04.739058Z",
     "shell.execute_reply": "2024-05-08T13:34:04.738233Z",
     "shell.execute_reply.started": "2024-05-08T13:34:04.730451Z"
    },
    "tags": []
   },
   "outputs": [
    {
     "data": {
      "text/plain": [
       "tensor([0, 0, 1])"
      ]
     },
     "execution_count": 22,
     "metadata": {},
     "output_type": "execute_result"
    }
   ],
   "source": [
    "F.one_hot(torch.tensor(2), num_classes=3)"
   ]
  },
  {
   "cell_type": "markdown",
   "metadata": {},
   "source": [
    "## 5.1 Cross Entrophy Loss"
   ]
  },
  {
   "cell_type": "code",
   "execution_count": 23,
   "metadata": {
    "execution": {
     "iopub.execute_input": "2024-05-12T11:01:42.839802Z",
     "iopub.status.busy": "2024-05-12T11:01:42.839304Z",
     "iopub.status.idle": "2024-05-12T11:01:42.851125Z",
     "shell.execute_reply": "2024-05-12T11:01:42.850050Z",
     "shell.execute_reply.started": "2024-05-12T11:01:42.839762Z"
    },
    "tags": []
   },
   "outputs": [
    {
     "data": {
      "text/plain": [
       "tensor(0.8131, dtype=torch.float64)"
      ]
     },
     "execution_count": 23,
     "metadata": {},
     "output_type": "execute_result"
    }
   ],
   "source": [
    "from torch.nn import CrossEntropyLoss\n",
    "\n",
    "scores= torch.tensor([[-0.1211, 0.1059]])\n",
    "one_hot_target = torch.tensor([[1,0]])\n",
    "\n",
    "criterion = CrossEntropyLoss()\n",
    "criterion(scores.double(), one_hot_target.double())"
   ]
  },
  {
   "cell_type": "markdown",
   "metadata": {},
   "source": [
    "## 5.2 MSELoss"
   ]
  },
  {
   "cell_type": "code",
   "execution_count": 24,
   "metadata": {
    "execution": {
     "iopub.execute_input": "2024-05-09T11:19:55.805117Z",
     "iopub.status.busy": "2024-05-09T11:19:55.804422Z",
     "iopub.status.idle": "2024-05-09T11:19:55.815095Z",
     "shell.execute_reply": "2024-05-09T11:19:55.814030Z",
     "shell.execute_reply.started": "2024-05-09T11:19:55.805074Z"
    },
    "tags": []
   },
   "outputs": [
    {
     "name": "stdout",
     "output_type": "stream",
     "text": [
      "tensor(81.)\n"
     ]
    }
   ],
   "source": [
    "y_hat = np.array(10)\n",
    "y = np.array(1)\n",
    "\n",
    "mse_numpy = np.mean((y_hat - y) ** 2)\n",
    "\n",
    "criterion = nn.MSELoss()\n",
    "\n",
    "mse_torch = criterion(torch.tensor(y_hat).float(), torch.tensor(y).float())\n",
    "print(mse_torch)"
   ]
  },
  {
   "cell_type": "markdown",
   "metadata": {},
   "source": [
    "# 6.Using derivates to update model parameters"
   ]
  },
  {
   "cell_type": "code",
   "execution_count": 25,
   "metadata": {
    "execution": {
     "iopub.execute_input": "2024-05-09T08:22:17.614581Z",
     "iopub.status.busy": "2024-05-09T08:22:17.612291Z",
     "iopub.status.idle": "2024-05-09T08:22:17.626209Z",
     "shell.execute_reply": "2024-05-09T08:22:17.625028Z",
     "shell.execute_reply.started": "2024-05-09T08:22:17.614445Z"
    },
    "tags": []
   },
   "outputs": [],
   "source": [
    "input_tensor = torch.Tensor([[3, 4, 6, 7, 10, 12, 2, 3]])\n",
    "target = torch.Tensor([[3, 3.2]])\n",
    "\n",
    "model = nn.Sequential(nn.Linear(8,6),\n",
    "                     nn.Linear(6,4),\n",
    "                     nn.Linear(4,2))\n",
    "\n",
    "prediction = model(input_tensor)"
   ]
  },
  {
   "cell_type": "code",
   "execution_count": 26,
   "metadata": {
    "execution": {
     "iopub.execute_input": "2024-05-09T08:22:18.050739Z",
     "iopub.status.busy": "2024-05-09T08:22:18.050141Z",
     "iopub.status.idle": "2024-05-09T08:22:18.058945Z",
     "shell.execute_reply": "2024-05-09T08:22:18.057793Z",
     "shell.execute_reply.started": "2024-05-09T08:22:18.050698Z"
    },
    "tags": []
   },
   "outputs": [
    {
     "data": {
      "text/plain": [
       "tensor([[ 1.1152, -0.3552]], grad_fn=<AddmmBackward0>)"
      ]
     },
     "execution_count": 26,
     "metadata": {},
     "output_type": "execute_result"
    }
   ],
   "source": [
    "prediction"
   ]
  },
  {
   "cell_type": "code",
   "execution_count": 27,
   "metadata": {
    "execution": {
     "iopub.execute_input": "2024-05-09T08:22:18.567266Z",
     "iopub.status.busy": "2024-05-09T08:22:18.566774Z",
     "iopub.status.idle": "2024-05-09T08:22:18.581726Z",
     "shell.execute_reply": "2024-05-09T08:22:18.580717Z",
     "shell.execute_reply.started": "2024-05-09T08:22:18.567226Z"
    },
    "tags": []
   },
   "outputs": [],
   "source": [
    "criterion = CrossEntropyLoss()\n",
    "loss = criterion(prediction, target)\n",
    "loss.backward()"
   ]
  },
  {
   "cell_type": "code",
   "execution_count": 28,
   "metadata": {
    "execution": {
     "iopub.execute_input": "2024-05-09T08:22:52.722816Z",
     "iopub.status.busy": "2024-05-09T08:22:52.722236Z",
     "iopub.status.idle": "2024-05-09T08:22:52.734358Z",
     "shell.execute_reply": "2024-05-09T08:22:52.733438Z",
     "shell.execute_reply.started": "2024-05-09T08:22:52.722775Z"
    }
   },
   "outputs": [
    {
     "data": {
      "text/plain": [
       "(tensor([[-0.4898, -0.6531, -0.9796, -1.1429, -1.6327, -1.9592, -0.3265, -0.4898],\n",
       "         [-2.2622, -3.0163, -4.5245, -5.2786, -7.5408, -9.0490, -1.5082, -2.2622],\n",
       "         [-0.1802, -0.2402, -0.3604, -0.4204, -0.6006, -0.7207, -0.1201, -0.1802],\n",
       "         [-2.0375, -2.7167, -4.0750, -4.7542, -6.7917, -8.1501, -1.3583, -2.0375],\n",
       "         [ 0.3392,  0.4522,  0.6783,  0.7914,  1.1306,  1.3567,  0.2261,  0.3392],\n",
       "         [ 0.0829,  0.1106,  0.1658,  0.1935,  0.2764,  0.3317,  0.0553,  0.0829]]),\n",
       " tensor([-0.1633, -0.7541, -0.0601, -0.6792,  0.1131,  0.0276]))"
      ]
     },
     "execution_count": 28,
     "metadata": {},
     "output_type": "execute_result"
    }
   ],
   "source": [
    "model[0].weight.grad, model[0].bias.grad"
   ]
  },
  {
   "cell_type": "code",
   "execution_count": 29,
   "metadata": {
    "execution": {
     "iopub.execute_input": "2024-05-09T08:23:03.314937Z",
     "iopub.status.busy": "2024-05-09T08:23:03.314298Z",
     "iopub.status.idle": "2024-05-09T08:23:03.327097Z",
     "shell.execute_reply": "2024-05-09T08:23:03.325851Z",
     "shell.execute_reply.started": "2024-05-09T08:23:03.314893Z"
    }
   },
   "outputs": [
    {
     "data": {
      "text/plain": [
       "(tensor([[-2.8263,  0.2984, -2.4086, -1.7226,  0.1301,  1.8478],\n",
       "         [-0.2772,  0.0293, -0.2363, -0.1690,  0.0128,  0.1812],\n",
       "         [ 7.6821, -0.8110,  6.5468,  4.6822, -0.3535, -5.0225],\n",
       "         [ 4.2697, -0.4508,  3.6387,  2.6024, -0.1965, -2.7915]]),\n",
       " tensor([ 0.5447,  0.0534, -1.4804, -0.8228]))"
      ]
     },
     "execution_count": 29,
     "metadata": {},
     "output_type": "execute_result"
    }
   ],
   "source": [
    "model[1].weight.grad, model[1].bias.grad"
   ]
  },
  {
   "cell_type": "code",
   "execution_count": 30,
   "metadata": {
    "execution": {
     "iopub.execute_input": "2024-05-09T08:23:13.206918Z",
     "iopub.status.busy": "2024-05-09T08:23:13.206107Z",
     "iopub.status.idle": "2024-05-09T08:23:13.216801Z",
     "shell.execute_reply": "2024-05-09T08:23:13.215788Z",
     "shell.execute_reply.started": "2024-05-09T08:23:13.206866Z"
    }
   },
   "outputs": [
    {
     "data": {
      "text/plain": [
       "(tensor([[ 4.6433, -2.3961, -6.1969,  7.3562],\n",
       "         [-4.6433,  2.3961,  6.1969, -7.3562]]),\n",
       " tensor([ 2.0413, -2.0413]))"
      ]
     },
     "execution_count": 30,
     "metadata": {},
     "output_type": "execute_result"
    }
   ],
   "source": [
    "model[2].weight.grad, model[2].bias.grad"
   ]
  },
  {
   "cell_type": "code",
   "execution_count": 31,
   "metadata": {
    "execution": {
     "iopub.execute_input": "2024-05-09T08:25:12.893642Z",
     "iopub.status.busy": "2024-05-09T08:25:12.893076Z",
     "iopub.status.idle": "2024-05-09T08:25:12.902808Z",
     "shell.execute_reply": "2024-05-09T08:25:12.901439Z",
     "shell.execute_reply.started": "2024-05-09T08:25:12.893599Z"
    },
    "tags": []
   },
   "outputs": [],
   "source": [
    "lr = 0.001\n",
    "\n",
    "weight = model[0].weight\n",
    "weight_grad = model[0].weight.grad\n",
    "weight = weight - lr * weight_grad\n",
    "\n",
    "bias = model[0].bias\n",
    "bias_grad = model[0].bias.grad\n",
    "bias = bias - lr * bias_grad"
   ]
  },
  {
   "cell_type": "code",
   "execution_count": 32,
   "metadata": {
    "execution": {
     "iopub.execute_input": "2024-05-12T11:01:46.887365Z",
     "iopub.status.busy": "2024-05-12T11:01:46.886826Z",
     "iopub.status.idle": "2024-05-12T11:01:46.894429Z",
     "shell.execute_reply": "2024-05-12T11:01:46.893423Z",
     "shell.execute_reply.started": "2024-05-12T11:01:46.887324Z"
    },
    "tags": []
   },
   "outputs": [],
   "source": [
    "import torch.optim as optim\n",
    "\n",
    "optimizer = optim.SGD(model.parameters(), lr=0.001)"
   ]
  },
  {
   "cell_type": "code",
   "execution_count": 33,
   "metadata": {
    "execution": {
     "iopub.execute_input": "2024-05-09T08:26:16.851646Z",
     "iopub.status.busy": "2024-05-09T08:26:16.850860Z",
     "iopub.status.idle": "2024-05-09T08:26:16.858883Z",
     "shell.execute_reply": "2024-05-09T08:26:16.857716Z",
     "shell.execute_reply.started": "2024-05-09T08:26:16.851600Z"
    }
   },
   "outputs": [],
   "source": [
    "optimizer.step()"
   ]
  },
  {
   "cell_type": "markdown",
   "metadata": {},
   "source": [
    "# 7.Training loop"
   ]
  },
  {
   "cell_type": "code",
   "execution_count": 34,
   "metadata": {
    "execution": {
     "iopub.execute_input": "2024-05-09T11:35:57.619859Z",
     "iopub.status.busy": "2024-05-09T11:35:57.619315Z",
     "iopub.status.idle": "2024-05-09T11:35:57.643266Z",
     "shell.execute_reply": "2024-05-09T11:35:57.641611Z",
     "shell.execute_reply.started": "2024-05-09T11:35:57.619820Z"
    },
    "tags": []
   },
   "outputs": [
    {
     "ename": "NameError",
     "evalue": "name 'num_epochs' is not defined",
     "output_type": "error",
     "traceback": [
      "\u001b[1;31m---------------------------------------------------------------------------\u001b[0m",
      "\u001b[1;31mNameError\u001b[0m                                 Traceback (most recent call last)",
      "Cell \u001b[1;32mIn[34], line 2\u001b[0m\n\u001b[0;32m      1\u001b[0m \u001b[38;5;66;03m# Loop over the number of epochs and the dataloader\u001b[39;00m\n\u001b[1;32m----> 2\u001b[0m \u001b[38;5;28;01mfor\u001b[39;00m i \u001b[38;5;129;01min\u001b[39;00m \u001b[38;5;28mrange\u001b[39m(\u001b[43mnum_epochs\u001b[49m):\n\u001b[0;32m      3\u001b[0m     \u001b[38;5;28;01mfor\u001b[39;00m data \u001b[38;5;129;01min\u001b[39;00m dataloader:\n\u001b[0;32m      4\u001b[0m         \u001b[38;5;66;03m# Set the gradients to zero\u001b[39;00m\n\u001b[0;32m      5\u001b[0m         optimizer\u001b[38;5;241m.\u001b[39mzero_grad()\n",
      "\u001b[1;31mNameError\u001b[0m: name 'num_epochs' is not defined"
     ]
    }
   ],
   "source": [
    "# Loop over the number of epochs and the dataloader\n",
    "for i in range(num_epochs):\n",
    "    for data in dataloader:\n",
    "        # Set the gradients to zero\n",
    "        optimizer.zero_grad()\n",
    "        # Run a forward pass\n",
    "        feature, target = data\n",
    "        prediction = model(feature)    \n",
    "        # Calculate the loss\n",
    "        loss = criterion(prediction, target)    \n",
    "        # Compute the gradients\n",
    "        loss.backward()\n",
    "        # Update the model's parameters\n",
    "        optimizer.step()\n",
    "show_results(model, dataloader)"
   ]
  },
  {
   "cell_type": "markdown",
   "metadata": {},
   "source": [
    "# 8.Learning rate and momentum\n",
    "*** Implement these parameters using optimizer"
   ]
  },
  {
   "cell_type": "markdown",
   "metadata": {},
   "source": [
    "# 9.Layer initialization"
   ]
  },
  {
   "cell_type": "code",
   "execution_count": 75,
   "metadata": {
    "execution": {
     "iopub.execute_input": "2024-05-12T11:02:23.968435Z",
     "iopub.status.busy": "2024-05-12T11:02:23.967892Z",
     "iopub.status.idle": "2024-05-12T11:02:23.977884Z",
     "shell.execute_reply": "2024-05-12T11:02:23.976610Z",
     "shell.execute_reply.started": "2024-05-12T11:02:23.968395Z"
    }
   },
   "outputs": [
    {
     "name": "stdout",
     "output_type": "stream",
     "text": [
      "tensor(-0.1250, grad_fn=<MinBackward1>) tensor(0.1249, grad_fn=<MaxBackward1>)\n"
     ]
    }
   ],
   "source": [
    "layer = nn.Linear(64,128)\n",
    "print(layer.weight.min(), layer.weight.max())"
   ]
  },
  {
   "cell_type": "code",
   "execution_count": 76,
   "metadata": {
    "execution": {
     "iopub.execute_input": "2024-05-12T11:07:05.649394Z",
     "iopub.status.busy": "2024-05-12T11:07:05.648701Z",
     "iopub.status.idle": "2024-05-12T11:07:05.658868Z",
     "shell.execute_reply": "2024-05-12T11:07:05.657815Z",
     "shell.execute_reply.started": "2024-05-12T11:07:05.649350Z"
    }
   },
   "outputs": [
    {
     "name": "stdout",
     "output_type": "stream",
     "text": [
      "tensor(0.0005, grad_fn=<MinBackward1>) tensor(0.9999, grad_fn=<MaxBackward1>)\n"
     ]
    }
   ],
   "source": [
    "layer = nn.Linear(64,128)\n",
    "nn.init.uniform_(layer.weight)\n",
    "print(layer.weight.min(), layer.weight.max())"
   ]
  },
  {
   "cell_type": "markdown",
   "metadata": {},
   "source": [
    "# 10.Transfer Learning and fine-tuning"
   ]
  },
  {
   "cell_type": "code",
   "execution_count": 79,
   "metadata": {
    "execution": {
     "iopub.execute_input": "2024-05-12T11:12:49.895867Z",
     "iopub.status.busy": "2024-05-12T11:12:49.895336Z",
     "iopub.status.idle": "2024-05-12T11:12:49.907138Z",
     "shell.execute_reply": "2024-05-12T11:12:49.906132Z",
     "shell.execute_reply.started": "2024-05-12T11:12:49.895827Z"
    },
    "tags": []
   },
   "outputs": [
    {
     "name": "stdout",
     "output_type": "stream",
     "text": [
      "0.weight\n",
      "Parameter containing:\n",
      "tensor([[ 0.1024, -0.3381, -0.0277,  0.2188, -0.0333],\n",
      "        [ 0.2185, -0.0533,  0.0214, -0.4002, -0.0949],\n",
      "        [ 0.2506, -0.1270,  0.0484,  0.4328, -0.2036],\n",
      "        [-0.4252,  0.3722, -0.3024,  0.0449, -0.0666]], requires_grad=True)\n",
      "0.bias\n",
      "Parameter containing:\n",
      "tensor([-0.3604,  0.0904,  0.1973,  0.0812], requires_grad=True)\n",
      "1.weight\n",
      "Parameter containing:\n",
      "tensor([[-0.2610,  0.4530, -0.2303,  0.2022],\n",
      "        [-0.4732, -0.2995, -0.2672, -0.0394]], requires_grad=True)\n",
      "1.bias\n",
      "Parameter containing:\n",
      "tensor([ 0.4268, -0.2198], requires_grad=True)\n"
     ]
    }
   ],
   "source": [
    "model = nn.Sequential(nn.Linear(5,4),\n",
    "                     nn.Linear(4,2))\n",
    "\n",
    "for name, param in model.named_parameters():\n",
    "    print(name)\n",
    "    print(param)"
   ]
  },
  {
   "cell_type": "code",
   "execution_count": 80,
   "metadata": {
    "execution": {
     "iopub.execute_input": "2024-05-12T11:13:15.529717Z",
     "iopub.status.busy": "2024-05-12T11:13:15.529178Z",
     "iopub.status.idle": "2024-05-12T11:13:15.538261Z",
     "shell.execute_reply": "2024-05-12T11:13:15.537006Z",
     "shell.execute_reply.started": "2024-05-12T11:13:15.529675Z"
    }
   },
   "outputs": [],
   "source": [
    "model = nn.Sequential(nn.Linear(64,128),\n",
    "                     nn.Linear(128,256))\n",
    "\n",
    "for name, param in model.named_parameters():\n",
    "    if name=='0.weight':\n",
    "        param.requires_grad = False"
   ]
  },
  {
   "cell_type": "markdown",
   "metadata": {},
   "source": [
    "# 11.A deeper dive into Loading Data"
   ]
  },
  {
   "cell_type": "code",
   "execution_count": 83,
   "metadata": {
    "execution": {
     "iopub.execute_input": "2024-05-12T11:45:34.286295Z",
     "iopub.status.busy": "2024-05-12T11:45:34.285759Z",
     "iopub.status.idle": "2024-05-12T11:45:34.292385Z",
     "shell.execute_reply": "2024-05-12T11:45:34.291305Z",
     "shell.execute_reply.started": "2024-05-12T11:45:34.286254Z"
    },
    "tags": []
   },
   "outputs": [],
   "source": [
    "import torch\n",
    "from torch.utils.data import TensorDataset\n",
    "from torch.utils.data import DataLoader"
   ]
  },
  {
   "cell_type": "code",
   "execution_count": 99,
   "metadata": {
    "execution": {
     "iopub.execute_input": "2024-05-12T16:03:11.768597Z",
     "iopub.status.busy": "2024-05-12T16:03:11.768033Z",
     "iopub.status.idle": "2024-05-12T16:03:11.777631Z",
     "shell.execute_reply": "2024-05-12T16:03:11.776573Z",
     "shell.execute_reply.started": "2024-05-12T16:03:11.768552Z"
    },
    "tags": []
   },
   "outputs": [],
   "source": [
    "from sklearn.datasets import load_iris\n",
    "\n",
    "iris = load_iris()\n",
    "x = iris.data\n",
    "y = iris.target"
   ]
  },
  {
   "cell_type": "markdown",
   "metadata": {},
   "source": [
    "## 11.1 TensorDataset()"
   ]
  },
  {
   "cell_type": "code",
   "execution_count": 100,
   "metadata": {
    "execution": {
     "iopub.execute_input": "2024-05-12T16:03:13.850283Z",
     "iopub.status.busy": "2024-05-12T16:03:13.849772Z",
     "iopub.status.idle": "2024-05-12T16:03:13.856500Z",
     "shell.execute_reply": "2024-05-12T16:03:13.855442Z",
     "shell.execute_reply.started": "2024-05-12T16:03:13.850241Z"
    },
    "tags": []
   },
   "outputs": [],
   "source": [
    "dataset = TensorDataset(torch.tensor(x).float(), torch.tensor(y).float())"
   ]
  },
  {
   "cell_type": "code",
   "execution_count": 102,
   "metadata": {
    "execution": {
     "iopub.execute_input": "2024-05-12T16:03:25.361080Z",
     "iopub.status.busy": "2024-05-12T16:03:25.360420Z",
     "iopub.status.idle": "2024-05-12T16:03:25.378892Z",
     "shell.execute_reply": "2024-05-12T16:03:25.378181Z",
     "shell.execute_reply.started": "2024-05-12T16:03:25.361036Z"
    },
    "tags": []
   },
   "outputs": [
    {
     "data": {
      "text/plain": [
       "(tensor([[5.1000, 3.5000, 1.4000, 0.2000],\n",
       "         [4.9000, 3.0000, 1.4000, 0.2000],\n",
       "         [4.7000, 3.2000, 1.3000, 0.2000],\n",
       "         [4.6000, 3.1000, 1.5000, 0.2000],\n",
       "         [5.0000, 3.6000, 1.4000, 0.2000],\n",
       "         [5.4000, 3.9000, 1.7000, 0.4000],\n",
       "         [4.6000, 3.4000, 1.4000, 0.3000],\n",
       "         [5.0000, 3.4000, 1.5000, 0.2000],\n",
       "         [4.4000, 2.9000, 1.4000, 0.2000],\n",
       "         [4.9000, 3.1000, 1.5000, 0.1000],\n",
       "         [5.4000, 3.7000, 1.5000, 0.2000],\n",
       "         [4.8000, 3.4000, 1.6000, 0.2000],\n",
       "         [4.8000, 3.0000, 1.4000, 0.1000],\n",
       "         [4.3000, 3.0000, 1.1000, 0.1000],\n",
       "         [5.8000, 4.0000, 1.2000, 0.2000],\n",
       "         [5.7000, 4.4000, 1.5000, 0.4000],\n",
       "         [5.4000, 3.9000, 1.3000, 0.4000],\n",
       "         [5.1000, 3.5000, 1.4000, 0.3000],\n",
       "         [5.7000, 3.8000, 1.7000, 0.3000],\n",
       "         [5.1000, 3.8000, 1.5000, 0.3000],\n",
       "         [5.4000, 3.4000, 1.7000, 0.2000],\n",
       "         [5.1000, 3.7000, 1.5000, 0.4000],\n",
       "         [4.6000, 3.6000, 1.0000, 0.2000],\n",
       "         [5.1000, 3.3000, 1.7000, 0.5000],\n",
       "         [4.8000, 3.4000, 1.9000, 0.2000],\n",
       "         [5.0000, 3.0000, 1.6000, 0.2000],\n",
       "         [5.0000, 3.4000, 1.6000, 0.4000],\n",
       "         [5.2000, 3.5000, 1.5000, 0.2000],\n",
       "         [5.2000, 3.4000, 1.4000, 0.2000],\n",
       "         [4.7000, 3.2000, 1.6000, 0.2000],\n",
       "         [4.8000, 3.1000, 1.6000, 0.2000],\n",
       "         [5.4000, 3.4000, 1.5000, 0.4000],\n",
       "         [5.2000, 4.1000, 1.5000, 0.1000],\n",
       "         [5.5000, 4.2000, 1.4000, 0.2000],\n",
       "         [4.9000, 3.1000, 1.5000, 0.2000],\n",
       "         [5.0000, 3.2000, 1.2000, 0.2000],\n",
       "         [5.5000, 3.5000, 1.3000, 0.2000],\n",
       "         [4.9000, 3.6000, 1.4000, 0.1000],\n",
       "         [4.4000, 3.0000, 1.3000, 0.2000],\n",
       "         [5.1000, 3.4000, 1.5000, 0.2000],\n",
       "         [5.0000, 3.5000, 1.3000, 0.3000],\n",
       "         [4.5000, 2.3000, 1.3000, 0.3000],\n",
       "         [4.4000, 3.2000, 1.3000, 0.2000],\n",
       "         [5.0000, 3.5000, 1.6000, 0.6000],\n",
       "         [5.1000, 3.8000, 1.9000, 0.4000],\n",
       "         [4.8000, 3.0000, 1.4000, 0.3000],\n",
       "         [5.1000, 3.8000, 1.6000, 0.2000],\n",
       "         [4.6000, 3.2000, 1.4000, 0.2000],\n",
       "         [5.3000, 3.7000, 1.5000, 0.2000],\n",
       "         [5.0000, 3.3000, 1.4000, 0.2000],\n",
       "         [7.0000, 3.2000, 4.7000, 1.4000],\n",
       "         [6.4000, 3.2000, 4.5000, 1.5000],\n",
       "         [6.9000, 3.1000, 4.9000, 1.5000],\n",
       "         [5.5000, 2.3000, 4.0000, 1.3000],\n",
       "         [6.5000, 2.8000, 4.6000, 1.5000],\n",
       "         [5.7000, 2.8000, 4.5000, 1.3000],\n",
       "         [6.3000, 3.3000, 4.7000, 1.6000],\n",
       "         [4.9000, 2.4000, 3.3000, 1.0000],\n",
       "         [6.6000, 2.9000, 4.6000, 1.3000],\n",
       "         [5.2000, 2.7000, 3.9000, 1.4000],\n",
       "         [5.0000, 2.0000, 3.5000, 1.0000],\n",
       "         [5.9000, 3.0000, 4.2000, 1.5000],\n",
       "         [6.0000, 2.2000, 4.0000, 1.0000],\n",
       "         [6.1000, 2.9000, 4.7000, 1.4000],\n",
       "         [5.6000, 2.9000, 3.6000, 1.3000],\n",
       "         [6.7000, 3.1000, 4.4000, 1.4000],\n",
       "         [5.6000, 3.0000, 4.5000, 1.5000],\n",
       "         [5.8000, 2.7000, 4.1000, 1.0000],\n",
       "         [6.2000, 2.2000, 4.5000, 1.5000],\n",
       "         [5.6000, 2.5000, 3.9000, 1.1000],\n",
       "         [5.9000, 3.2000, 4.8000, 1.8000],\n",
       "         [6.1000, 2.8000, 4.0000, 1.3000],\n",
       "         [6.3000, 2.5000, 4.9000, 1.5000],\n",
       "         [6.1000, 2.8000, 4.7000, 1.2000],\n",
       "         [6.4000, 2.9000, 4.3000, 1.3000],\n",
       "         [6.6000, 3.0000, 4.4000, 1.4000],\n",
       "         [6.8000, 2.8000, 4.8000, 1.4000],\n",
       "         [6.7000, 3.0000, 5.0000, 1.7000],\n",
       "         [6.0000, 2.9000, 4.5000, 1.5000],\n",
       "         [5.7000, 2.6000, 3.5000, 1.0000],\n",
       "         [5.5000, 2.4000, 3.8000, 1.1000],\n",
       "         [5.5000, 2.4000, 3.7000, 1.0000],\n",
       "         [5.8000, 2.7000, 3.9000, 1.2000],\n",
       "         [6.0000, 2.7000, 5.1000, 1.6000],\n",
       "         [5.4000, 3.0000, 4.5000, 1.5000],\n",
       "         [6.0000, 3.4000, 4.5000, 1.6000],\n",
       "         [6.7000, 3.1000, 4.7000, 1.5000],\n",
       "         [6.3000, 2.3000, 4.4000, 1.3000],\n",
       "         [5.6000, 3.0000, 4.1000, 1.3000],\n",
       "         [5.5000, 2.5000, 4.0000, 1.3000],\n",
       "         [5.5000, 2.6000, 4.4000, 1.2000],\n",
       "         [6.1000, 3.0000, 4.6000, 1.4000],\n",
       "         [5.8000, 2.6000, 4.0000, 1.2000],\n",
       "         [5.0000, 2.3000, 3.3000, 1.0000],\n",
       "         [5.6000, 2.7000, 4.2000, 1.3000],\n",
       "         [5.7000, 3.0000, 4.2000, 1.2000],\n",
       "         [5.7000, 2.9000, 4.2000, 1.3000],\n",
       "         [6.2000, 2.9000, 4.3000, 1.3000],\n",
       "         [5.1000, 2.5000, 3.0000, 1.1000],\n",
       "         [5.7000, 2.8000, 4.1000, 1.3000],\n",
       "         [6.3000, 3.3000, 6.0000, 2.5000],\n",
       "         [5.8000, 2.7000, 5.1000, 1.9000],\n",
       "         [7.1000, 3.0000, 5.9000, 2.1000],\n",
       "         [6.3000, 2.9000, 5.6000, 1.8000],\n",
       "         [6.5000, 3.0000, 5.8000, 2.2000],\n",
       "         [7.6000, 3.0000, 6.6000, 2.1000],\n",
       "         [4.9000, 2.5000, 4.5000, 1.7000],\n",
       "         [7.3000, 2.9000, 6.3000, 1.8000],\n",
       "         [6.7000, 2.5000, 5.8000, 1.8000],\n",
       "         [7.2000, 3.6000, 6.1000, 2.5000],\n",
       "         [6.5000, 3.2000, 5.1000, 2.0000],\n",
       "         [6.4000, 2.7000, 5.3000, 1.9000],\n",
       "         [6.8000, 3.0000, 5.5000, 2.1000],\n",
       "         [5.7000, 2.5000, 5.0000, 2.0000],\n",
       "         [5.8000, 2.8000, 5.1000, 2.4000],\n",
       "         [6.4000, 3.2000, 5.3000, 2.3000],\n",
       "         [6.5000, 3.0000, 5.5000, 1.8000],\n",
       "         [7.7000, 3.8000, 6.7000, 2.2000],\n",
       "         [7.7000, 2.6000, 6.9000, 2.3000],\n",
       "         [6.0000, 2.2000, 5.0000, 1.5000],\n",
       "         [6.9000, 3.2000, 5.7000, 2.3000],\n",
       "         [5.6000, 2.8000, 4.9000, 2.0000],\n",
       "         [7.7000, 2.8000, 6.7000, 2.0000],\n",
       "         [6.3000, 2.7000, 4.9000, 1.8000],\n",
       "         [6.7000, 3.3000, 5.7000, 2.1000],\n",
       "         [7.2000, 3.2000, 6.0000, 1.8000],\n",
       "         [6.2000, 2.8000, 4.8000, 1.8000],\n",
       "         [6.1000, 3.0000, 4.9000, 1.8000],\n",
       "         [6.4000, 2.8000, 5.6000, 2.1000],\n",
       "         [7.2000, 3.0000, 5.8000, 1.6000],\n",
       "         [7.4000, 2.8000, 6.1000, 1.9000],\n",
       "         [7.9000, 3.8000, 6.4000, 2.0000],\n",
       "         [6.4000, 2.8000, 5.6000, 2.2000],\n",
       "         [6.3000, 2.8000, 5.1000, 1.5000],\n",
       "         [6.1000, 2.6000, 5.6000, 1.4000],\n",
       "         [7.7000, 3.0000, 6.1000, 2.3000],\n",
       "         [6.3000, 3.4000, 5.6000, 2.4000],\n",
       "         [6.4000, 3.1000, 5.5000, 1.8000],\n",
       "         [6.0000, 3.0000, 4.8000, 1.8000],\n",
       "         [6.9000, 3.1000, 5.4000, 2.1000],\n",
       "         [6.7000, 3.1000, 5.6000, 2.4000],\n",
       "         [6.9000, 3.1000, 5.1000, 2.3000],\n",
       "         [5.8000, 2.7000, 5.1000, 1.9000],\n",
       "         [6.8000, 3.2000, 5.9000, 2.3000],\n",
       "         [6.7000, 3.3000, 5.7000, 2.5000],\n",
       "         [6.7000, 3.0000, 5.2000, 2.3000],\n",
       "         [6.3000, 2.5000, 5.0000, 1.9000],\n",
       "         [6.5000, 3.0000, 5.2000, 2.0000],\n",
       "         [6.2000, 3.4000, 5.4000, 2.3000],\n",
       "         [5.9000, 3.0000, 5.1000, 1.8000]]),\n",
       " tensor([0., 0., 0., 0., 0., 0., 0., 0., 0., 0., 0., 0., 0., 0., 0., 0., 0., 0.,\n",
       "         0., 0., 0., 0., 0., 0., 0., 0., 0., 0., 0., 0., 0., 0., 0., 0., 0., 0.,\n",
       "         0., 0., 0., 0., 0., 0., 0., 0., 0., 0., 0., 0., 0., 0., 1., 1., 1., 1.,\n",
       "         1., 1., 1., 1., 1., 1., 1., 1., 1., 1., 1., 1., 1., 1., 1., 1., 1., 1.,\n",
       "         1., 1., 1., 1., 1., 1., 1., 1., 1., 1., 1., 1., 1., 1., 1., 1., 1., 1.,\n",
       "         1., 1., 1., 1., 1., 1., 1., 1., 1., 1., 2., 2., 2., 2., 2., 2., 2., 2.,\n",
       "         2., 2., 2., 2., 2., 2., 2., 2., 2., 2., 2., 2., 2., 2., 2., 2., 2., 2.,\n",
       "         2., 2., 2., 2., 2., 2., 2., 2., 2., 2., 2., 2., 2., 2., 2., 2., 2., 2.,\n",
       "         2., 2., 2., 2., 2., 2.]))"
      ]
     },
     "execution_count": 102,
     "metadata": {},
     "output_type": "execute_result"
    }
   ],
   "source": [
    "dataset.tensors"
   ]
  },
  {
   "cell_type": "code",
   "execution_count": 104,
   "metadata": {
    "execution": {
     "iopub.execute_input": "2024-05-12T16:04:41.313992Z",
     "iopub.status.busy": "2024-05-12T16:04:41.313450Z",
     "iopub.status.idle": "2024-05-12T16:04:41.322907Z",
     "shell.execute_reply": "2024-05-12T16:04:41.321639Z",
     "shell.execute_reply.started": "2024-05-12T16:04:41.313951Z"
    },
    "tags": []
   },
   "outputs": [
    {
     "name": "stdout",
     "output_type": "stream",
     "text": [
      "input_sample: tensor([5.1000, 3.5000, 1.4000, 0.2000])\n",
      "label_sample: tensor(0.)\n"
     ]
    }
   ],
   "source": [
    "sample = dataset[0]\n",
    "input_sample, label_sample = sample\n",
    "print('input_sample:', input_sample)\n",
    "print('label_sample:', label_sample)"
   ]
  },
  {
   "cell_type": "markdown",
   "metadata": {},
   "source": [
    "## 11.2 DataLoader()"
   ]
  },
  {
   "cell_type": "code",
   "execution_count": 107,
   "metadata": {
    "execution": {
     "iopub.execute_input": "2024-05-12T16:07:35.248367Z",
     "iopub.status.busy": "2024-05-12T16:07:35.247828Z",
     "iopub.status.idle": "2024-05-12T16:07:35.254929Z",
     "shell.execute_reply": "2024-05-12T16:07:35.253818Z",
     "shell.execute_reply.started": "2024-05-12T16:07:35.248326Z"
    },
    "tags": []
   },
   "outputs": [],
   "source": [
    "batch_size=2\n",
    "shuffle = True\n",
    "\n",
    "dataloader = DataLoader(dataset=dataset,\n",
    "                       batch_size=batch_size,\n",
    "                       shuffle=shuffle) "
   ]
  },
  {
   "cell_type": "code",
   "execution_count": 120,
   "metadata": {
    "execution": {
     "iopub.execute_input": "2024-05-12T16:09:07.922239Z",
     "iopub.status.busy": "2024-05-12T16:09:07.921712Z",
     "iopub.status.idle": "2024-05-12T16:09:07.929580Z",
     "shell.execute_reply": "2024-05-12T16:09:07.928637Z",
     "shell.execute_reply.started": "2024-05-12T16:09:07.922197Z"
    },
    "tags": []
   },
   "outputs": [
    {
     "data": {
      "text/plain": [
       "2"
      ]
     },
     "execution_count": 120,
     "metadata": {},
     "output_type": "execute_result"
    }
   ],
   "source": [
    "dataloader.batch_size"
   ]
  },
  {
   "cell_type": "code",
   "execution_count": null,
   "metadata": {},
   "outputs": [],
   "source": [
    "# Get a batch of features and labels\n",
    "features, labels = next(iter(dataloader))\n",
    "print(features, labels)"
   ]
  },
  {
   "cell_type": "code",
   "execution_count": 121,
   "metadata": {
    "execution": {
     "iopub.execute_input": "2024-05-12T16:09:54.813431Z",
     "iopub.status.busy": "2024-05-12T16:09:54.812735Z",
     "iopub.status.idle": "2024-05-12T16:09:54.868828Z",
     "shell.execute_reply": "2024-05-12T16:09:54.868052Z",
     "shell.execute_reply.started": "2024-05-12T16:09:54.813387Z"
    }
   },
   "outputs": [
    {
     "name": "stdout",
     "output_type": "stream",
     "text": [
      "batch_inputs: tensor([[6.4000, 3.1000, 5.5000, 1.8000],\n",
      "        [6.7000, 3.3000, 5.7000, 2.5000]])\n",
      "batch_labels: tensor([2., 2.])\n",
      "batch_inputs: tensor([[5.4000, 3.9000, 1.3000, 0.4000],\n",
      "        [5.7000, 3.0000, 4.2000, 1.2000]])\n",
      "batch_labels: tensor([0., 1.])\n",
      "batch_inputs: tensor([[6.2000, 2.9000, 4.3000, 1.3000],\n",
      "        [5.5000, 3.5000, 1.3000, 0.2000]])\n",
      "batch_labels: tensor([1., 0.])\n",
      "batch_inputs: tensor([[5.0000, 3.2000, 1.2000, 0.2000],\n",
      "        [5.7000, 2.9000, 4.2000, 1.3000]])\n",
      "batch_labels: tensor([0., 1.])\n",
      "batch_inputs: tensor([[4.7000, 3.2000, 1.6000, 0.2000],\n",
      "        [6.1000, 2.8000, 4.7000, 1.2000]])\n",
      "batch_labels: tensor([0., 1.])\n",
      "batch_inputs: tensor([[7.6000, 3.0000, 6.6000, 2.1000],\n",
      "        [5.2000, 3.4000, 1.4000, 0.2000]])\n",
      "batch_labels: tensor([2., 0.])\n",
      "batch_inputs: tensor([[5.0000, 3.6000, 1.4000, 0.2000],\n",
      "        [5.1000, 3.5000, 1.4000, 0.3000]])\n",
      "batch_labels: tensor([0., 0.])\n",
      "batch_inputs: tensor([[4.9000, 2.4000, 3.3000, 1.0000],\n",
      "        [6.1000, 3.0000, 4.9000, 1.8000]])\n",
      "batch_labels: tensor([1., 2.])\n",
      "batch_inputs: tensor([[6.0000, 3.0000, 4.8000, 1.8000],\n",
      "        [5.7000, 2.8000, 4.5000, 1.3000]])\n",
      "batch_labels: tensor([2., 1.])\n",
      "batch_inputs: tensor([[5.7000, 2.6000, 3.5000, 1.0000],\n",
      "        [7.2000, 3.6000, 6.1000, 2.5000]])\n",
      "batch_labels: tensor([1., 2.])\n",
      "batch_inputs: tensor([[5.1000, 2.5000, 3.0000, 1.1000],\n",
      "        [5.0000, 3.0000, 1.6000, 0.2000]])\n",
      "batch_labels: tensor([1., 0.])\n",
      "batch_inputs: tensor([[5.4000, 3.0000, 4.5000, 1.5000],\n",
      "        [5.5000, 2.3000, 4.0000, 1.3000]])\n",
      "batch_labels: tensor([1., 1.])\n",
      "batch_inputs: tensor([[4.7000, 3.2000, 1.3000, 0.2000],\n",
      "        [4.9000, 3.0000, 1.4000, 0.2000]])\n",
      "batch_labels: tensor([0., 0.])\n",
      "batch_inputs: tensor([[4.4000, 3.2000, 1.3000, 0.2000],\n",
      "        [5.4000, 3.4000, 1.5000, 0.4000]])\n",
      "batch_labels: tensor([0., 0.])\n",
      "batch_inputs: tensor([[6.6000, 2.9000, 4.6000, 1.3000],\n",
      "        [6.3000, 2.9000, 5.6000, 1.8000]])\n",
      "batch_labels: tensor([1., 2.])\n",
      "batch_inputs: tensor([[6.1000, 3.0000, 4.6000, 1.4000],\n",
      "        [5.7000, 3.8000, 1.7000, 0.3000]])\n",
      "batch_labels: tensor([1., 0.])\n",
      "batch_inputs: tensor([[6.9000, 3.1000, 5.4000, 2.1000],\n",
      "        [5.8000, 2.7000, 5.1000, 1.9000]])\n",
      "batch_labels: tensor([2., 2.])\n",
      "batch_inputs: tensor([[5.3000, 3.7000, 1.5000, 0.2000],\n",
      "        [7.7000, 3.0000, 6.1000, 2.3000]])\n",
      "batch_labels: tensor([0., 2.])\n",
      "batch_inputs: tensor([[6.2000, 2.8000, 4.8000, 1.8000],\n",
      "        [6.7000, 3.1000, 4.7000, 1.5000]])\n",
      "batch_labels: tensor([2., 1.])\n",
      "batch_inputs: tensor([[5.7000, 2.8000, 4.1000, 1.3000],\n",
      "        [4.8000, 3.0000, 1.4000, 0.1000]])\n",
      "batch_labels: tensor([1., 0.])\n",
      "batch_inputs: tensor([[6.0000, 3.4000, 4.5000, 1.6000],\n",
      "        [5.1000, 3.8000, 1.9000, 0.4000]])\n",
      "batch_labels: tensor([1., 0.])\n",
      "batch_inputs: tensor([[6.8000, 2.8000, 4.8000, 1.4000],\n",
      "        [4.5000, 2.3000, 1.3000, 0.3000]])\n",
      "batch_labels: tensor([1., 0.])\n",
      "batch_inputs: tensor([[6.4000, 3.2000, 4.5000, 1.5000],\n",
      "        [6.0000, 2.2000, 4.0000, 1.0000]])\n",
      "batch_labels: tensor([1., 1.])\n",
      "batch_inputs: tensor([[5.2000, 4.1000, 1.5000, 0.1000],\n",
      "        [6.0000, 2.2000, 5.0000, 1.5000]])\n",
      "batch_labels: tensor([0., 2.])\n",
      "batch_inputs: tensor([[5.6000, 3.0000, 4.1000, 1.3000],\n",
      "        [6.9000, 3.2000, 5.7000, 2.3000]])\n",
      "batch_labels: tensor([1., 2.])\n",
      "batch_inputs: tensor([[6.8000, 3.0000, 5.5000, 2.1000],\n",
      "        [7.4000, 2.8000, 6.1000, 1.9000]])\n",
      "batch_labels: tensor([2., 2.])\n",
      "batch_inputs: tensor([[6.4000, 2.9000, 4.3000, 1.3000],\n",
      "        [6.3000, 3.3000, 4.7000, 1.6000]])\n",
      "batch_labels: tensor([1., 1.])\n",
      "batch_inputs: tensor([[6.5000, 3.0000, 5.5000, 1.8000],\n",
      "        [6.4000, 2.8000, 5.6000, 2.1000]])\n",
      "batch_labels: tensor([2., 2.])\n",
      "batch_inputs: tensor([[4.6000, 3.2000, 1.4000, 0.2000],\n",
      "        [6.4000, 2.7000, 5.3000, 1.9000]])\n",
      "batch_labels: tensor([0., 2.])\n",
      "batch_inputs: tensor([[5.5000, 2.4000, 3.7000, 1.0000],\n",
      "        [6.0000, 2.9000, 4.5000, 1.5000]])\n",
      "batch_labels: tensor([1., 1.])\n",
      "batch_inputs: tensor([[6.5000, 2.8000, 4.6000, 1.5000],\n",
      "        [7.3000, 2.9000, 6.3000, 1.8000]])\n",
      "batch_labels: tensor([1., 2.])\n",
      "batch_inputs: tensor([[6.3000, 2.8000, 5.1000, 1.5000],\n",
      "        [4.9000, 3.1000, 1.5000, 0.1000]])\n",
      "batch_labels: tensor([2., 0.])\n",
      "batch_inputs: tensor([[5.8000, 4.0000, 1.2000, 0.2000],\n",
      "        [5.6000, 2.8000, 4.9000, 2.0000]])\n",
      "batch_labels: tensor([0., 2.])\n",
      "batch_inputs: tensor([[5.1000, 3.7000, 1.5000, 0.4000],\n",
      "        [7.7000, 3.8000, 6.7000, 2.2000]])\n",
      "batch_labels: tensor([0., 2.])\n",
      "batch_inputs: tensor([[6.1000, 2.8000, 4.0000, 1.3000],\n",
      "        [5.8000, 2.6000, 4.0000, 1.2000]])\n",
      "batch_labels: tensor([1., 1.])\n",
      "batch_inputs: tensor([[6.0000, 2.7000, 5.1000, 1.6000],\n",
      "        [5.8000, 2.7000, 4.1000, 1.0000]])\n",
      "batch_labels: tensor([1., 1.])\n",
      "batch_inputs: tensor([[6.7000, 2.5000, 5.8000, 1.8000],\n",
      "        [4.6000, 3.6000, 1.0000, 0.2000]])\n",
      "batch_labels: tensor([2., 0.])\n",
      "batch_inputs: tensor([[5.0000, 3.3000, 1.4000, 0.2000],\n",
      "        [5.4000, 3.9000, 1.7000, 0.4000]])\n",
      "batch_labels: tensor([0., 0.])\n",
      "batch_inputs: tensor([[4.6000, 3.4000, 1.4000, 0.3000],\n",
      "        [5.0000, 2.0000, 3.5000, 1.0000]])\n",
      "batch_labels: tensor([0., 1.])\n",
      "batch_inputs: tensor([[7.2000, 3.0000, 5.8000, 1.6000],\n",
      "        [4.8000, 3.0000, 1.4000, 0.3000]])\n",
      "batch_labels: tensor([2., 0.])\n",
      "batch_inputs: tensor([[7.7000, 2.8000, 6.7000, 2.0000],\n",
      "        [5.6000, 2.9000, 3.6000, 1.3000]])\n",
      "batch_labels: tensor([2., 1.])\n",
      "batch_inputs: tensor([[5.1000, 3.4000, 1.5000, 0.2000],\n",
      "        [7.1000, 3.0000, 5.9000, 2.1000]])\n",
      "batch_labels: tensor([0., 2.])\n",
      "batch_inputs: tensor([[7.9000, 3.8000, 6.4000, 2.0000],\n",
      "        [7.7000, 2.6000, 6.9000, 2.3000]])\n",
      "batch_labels: tensor([2., 2.])\n",
      "batch_inputs: tensor([[5.8000, 2.8000, 5.1000, 2.4000],\n",
      "        [6.3000, 2.3000, 4.4000, 1.3000]])\n",
      "batch_labels: tensor([2., 1.])\n",
      "batch_inputs: tensor([[5.5000, 2.6000, 4.4000, 1.2000],\n",
      "        [5.4000, 3.7000, 1.5000, 0.2000]])\n",
      "batch_labels: tensor([1., 0.])\n",
      "batch_inputs: tensor([[5.7000, 2.5000, 5.0000, 2.0000],\n",
      "        [5.2000, 2.7000, 3.9000, 1.4000]])\n",
      "batch_labels: tensor([2., 1.])\n",
      "batch_inputs: tensor([[6.7000, 3.1000, 4.4000, 1.4000],\n",
      "        [5.6000, 2.5000, 3.9000, 1.1000]])\n",
      "batch_labels: tensor([1., 1.])\n",
      "batch_inputs: tensor([[4.3000, 3.0000, 1.1000, 0.1000],\n",
      "        [5.9000, 3.0000, 5.1000, 1.8000]])\n",
      "batch_labels: tensor([0., 2.])\n",
      "batch_inputs: tensor([[6.7000, 3.0000, 5.2000, 2.3000],\n",
      "        [5.7000, 4.4000, 1.5000, 0.4000]])\n",
      "batch_labels: tensor([2., 0.])\n",
      "batch_inputs: tensor([[5.0000, 2.3000, 3.3000, 1.0000],\n",
      "        [6.2000, 2.2000, 4.5000, 1.5000]])\n",
      "batch_labels: tensor([1., 1.])\n",
      "batch_inputs: tensor([[5.5000, 4.2000, 1.4000, 0.2000],\n",
      "        [6.4000, 2.8000, 5.6000, 2.2000]])\n",
      "batch_labels: tensor([0., 2.])\n",
      "batch_inputs: tensor([[5.0000, 3.4000, 1.5000, 0.2000],\n",
      "        [5.2000, 3.5000, 1.5000, 0.2000]])\n",
      "batch_labels: tensor([0., 0.])\n",
      "batch_inputs: tensor([[5.5000, 2.4000, 3.8000, 1.1000],\n",
      "        [5.5000, 2.5000, 4.0000, 1.3000]])\n",
      "batch_labels: tensor([1., 1.])\n",
      "batch_inputs: tensor([[6.7000, 3.1000, 5.6000, 2.4000],\n",
      "        [6.3000, 2.7000, 4.9000, 1.8000]])\n",
      "batch_labels: tensor([2., 2.])\n",
      "batch_inputs: tensor([[4.9000, 3.1000, 1.5000, 0.2000],\n",
      "        [5.8000, 2.7000, 3.9000, 1.2000]])\n",
      "batch_labels: tensor([0., 1.])\n",
      "batch_inputs: tensor([[5.0000, 3.4000, 1.6000, 0.4000],\n",
      "        [6.5000, 3.0000, 5.2000, 2.0000]])\n",
      "batch_labels: tensor([0., 2.])\n",
      "batch_inputs: tensor([[7.2000, 3.2000, 6.0000, 1.8000],\n",
      "        [4.9000, 2.5000, 4.5000, 1.7000]])\n",
      "batch_labels: tensor([2., 2.])\n",
      "batch_inputs: tensor([[6.5000, 3.2000, 5.1000, 2.0000],\n",
      "        [6.3000, 3.3000, 6.0000, 2.5000]])\n",
      "batch_labels: tensor([2., 2.])\n",
      "batch_inputs: tensor([[4.4000, 3.0000, 1.3000, 0.2000],\n",
      "        [6.3000, 2.5000, 4.9000, 1.5000]])\n",
      "batch_labels: tensor([0., 1.])\n",
      "batch_inputs: tensor([[4.4000, 2.9000, 1.4000, 0.2000],\n",
      "        [5.0000, 3.5000, 1.3000, 0.3000]])\n",
      "batch_labels: tensor([0., 0.])\n",
      "batch_inputs: tensor([[6.1000, 2.6000, 5.6000, 1.4000],\n",
      "        [6.6000, 3.0000, 4.4000, 1.4000]])\n",
      "batch_labels: tensor([2., 1.])\n",
      "batch_inputs: tensor([[4.8000, 3.1000, 1.6000, 0.2000],\n",
      "        [6.3000, 2.5000, 5.0000, 1.9000]])\n",
      "batch_labels: tensor([0., 2.])\n",
      "batch_inputs: tensor([[4.8000, 3.4000, 1.9000, 0.2000],\n",
      "        [5.8000, 2.7000, 5.1000, 1.9000]])\n",
      "batch_labels: tensor([0., 2.])\n",
      "batch_inputs: tensor([[5.9000, 3.0000, 4.2000, 1.5000],\n",
      "        [6.9000, 3.1000, 5.1000, 2.3000]])\n",
      "batch_labels: tensor([1., 2.])\n",
      "batch_inputs: tensor([[4.9000, 3.6000, 1.4000, 0.1000],\n",
      "        [6.5000, 3.0000, 5.8000, 2.2000]])\n",
      "batch_labels: tensor([0., 2.])\n",
      "batch_inputs: tensor([[5.6000, 2.7000, 4.2000, 1.3000],\n",
      "        [7.0000, 3.2000, 4.7000, 1.4000]])\n",
      "batch_labels: tensor([1., 1.])\n",
      "batch_inputs: tensor([[6.8000, 3.2000, 5.9000, 2.3000],\n",
      "        [5.9000, 3.2000, 4.8000, 1.8000]])\n",
      "batch_labels: tensor([2., 1.])\n",
      "batch_inputs: tensor([[6.3000, 3.4000, 5.6000, 2.4000],\n",
      "        [5.1000, 3.3000, 1.7000, 0.5000]])\n",
      "batch_labels: tensor([2., 0.])\n",
      "batch_inputs: tensor([[5.1000, 3.5000, 1.4000, 0.2000],\n",
      "        [6.9000, 3.1000, 4.9000, 1.5000]])\n",
      "batch_labels: tensor([0., 1.])\n",
      "batch_inputs: tensor([[5.1000, 3.8000, 1.6000, 0.2000],\n",
      "        [4.6000, 3.1000, 1.5000, 0.2000]])\n",
      "batch_labels: tensor([0., 0.])\n",
      "batch_inputs: tensor([[5.1000, 3.8000, 1.5000, 0.3000],\n",
      "        [6.2000, 3.4000, 5.4000, 2.3000]])\n",
      "batch_labels: tensor([0., 2.])\n",
      "batch_inputs: tensor([[6.7000, 3.3000, 5.7000, 2.1000],\n",
      "        [6.7000, 3.0000, 5.0000, 1.7000]])\n",
      "batch_labels: tensor([2., 1.])\n",
      "batch_inputs: tensor([[6.4000, 3.2000, 5.3000, 2.3000],\n",
      "        [5.0000, 3.5000, 1.6000, 0.6000]])\n",
      "batch_labels: tensor([2., 0.])\n",
      "batch_inputs: tensor([[6.1000, 2.9000, 4.7000, 1.4000],\n",
      "        [5.6000, 3.0000, 4.5000, 1.5000]])\n",
      "batch_labels: tensor([1., 1.])\n",
      "batch_inputs: tensor([[4.8000, 3.4000, 1.6000, 0.2000],\n",
      "        [5.4000, 3.4000, 1.7000, 0.2000]])\n",
      "batch_labels: tensor([0., 0.])\n"
     ]
    }
   ],
   "source": [
    "for batch_inputs, batch_labels in dataloader:\n",
    "    print('batch_inputs:', batch_inputs)\n",
    "    print('batch_labels:', batch_labels)"
   ]
  },
  {
   "cell_type": "code",
   "execution_count": 123,
   "metadata": {
    "execution": {
     "iopub.execute_input": "2024-05-12T16:16:16.045632Z",
     "iopub.status.busy": "2024-05-12T16:16:16.045105Z",
     "iopub.status.idle": "2024-05-12T16:16:16.065878Z",
     "shell.execute_reply": "2024-05-12T16:16:16.065177Z",
     "shell.execute_reply.started": "2024-05-12T16:16:16.045590Z"
    },
    "tags": []
   },
   "outputs": [
    {
     "data": {
      "text/html": [
       "<div>\n",
       "<style scoped>\n",
       "    .dataframe tbody tr th:only-of-type {\n",
       "        vertical-align: middle;\n",
       "    }\n",
       "\n",
       "    .dataframe tbody tr th {\n",
       "        vertical-align: top;\n",
       "    }\n",
       "\n",
       "    .dataframe thead th {\n",
       "        text-align: right;\n",
       "    }\n",
       "</style>\n",
       "<table border=\"1\" class=\"dataframe\">\n",
       "  <thead>\n",
       "    <tr style=\"text-align: right;\">\n",
       "      <th></th>\n",
       "      <th>sepal length (cm)</th>\n",
       "      <th>sepal width (cm)</th>\n",
       "      <th>petal length (cm)</th>\n",
       "      <th>petal width (cm)</th>\n",
       "      <th>target</th>\n",
       "      <th>target_names</th>\n",
       "    </tr>\n",
       "  </thead>\n",
       "  <tbody>\n",
       "    <tr>\n",
       "      <th>0</th>\n",
       "      <td>5.1</td>\n",
       "      <td>3.5</td>\n",
       "      <td>1.4</td>\n",
       "      <td>0.2</td>\n",
       "      <td>0</td>\n",
       "      <td>setosa</td>\n",
       "    </tr>\n",
       "    <tr>\n",
       "      <th>1</th>\n",
       "      <td>4.9</td>\n",
       "      <td>3.0</td>\n",
       "      <td>1.4</td>\n",
       "      <td>0.2</td>\n",
       "      <td>0</td>\n",
       "      <td>setosa</td>\n",
       "    </tr>\n",
       "    <tr>\n",
       "      <th>2</th>\n",
       "      <td>4.7</td>\n",
       "      <td>3.2</td>\n",
       "      <td>1.3</td>\n",
       "      <td>0.2</td>\n",
       "      <td>0</td>\n",
       "      <td>setosa</td>\n",
       "    </tr>\n",
       "    <tr>\n",
       "      <th>3</th>\n",
       "      <td>4.6</td>\n",
       "      <td>3.1</td>\n",
       "      <td>1.5</td>\n",
       "      <td>0.2</td>\n",
       "      <td>0</td>\n",
       "      <td>setosa</td>\n",
       "    </tr>\n",
       "    <tr>\n",
       "      <th>4</th>\n",
       "      <td>5.0</td>\n",
       "      <td>3.6</td>\n",
       "      <td>1.4</td>\n",
       "      <td>0.2</td>\n",
       "      <td>0</td>\n",
       "      <td>setosa</td>\n",
       "    </tr>\n",
       "  </tbody>\n",
       "</table>\n",
       "</div>"
      ],
      "text/plain": [
       "   sepal length (cm)  sepal width (cm)  petal length (cm)  petal width (cm)  \\\n",
       "0                5.1               3.5                1.4               0.2   \n",
       "1                4.9               3.0                1.4               0.2   \n",
       "2                4.7               3.2                1.3               0.2   \n",
       "3                4.6               3.1                1.5               0.2   \n",
       "4                5.0               3.6                1.4               0.2   \n",
       "\n",
       "   target target_names  \n",
       "0       0       setosa  \n",
       "1       0       setosa  \n",
       "2       0       setosa  \n",
       "3       0       setosa  \n",
       "4       0       setosa  "
      ]
     },
     "execution_count": 123,
     "metadata": {},
     "output_type": "execute_result"
    }
   ],
   "source": [
    "iris = load_iris()\n",
    "\n",
    "df = pd.DataFrame(\n",
    "    iris.data, \n",
    "    columns=iris.feature_names\n",
    "    )\n",
    "\n",
    "df['target'] = iris.target\n",
    "\n",
    "# Map targets to target names\n",
    "target_names = {\n",
    "    0:'setosa',\n",
    "    1:'versicolor', \n",
    "    2:'virginica'\n",
    "}\n",
    "\n",
    "df['target_names'] = df['target'].map(target_names)\n",
    "df.head()"
   ]
  },
  {
   "cell_type": "code",
   "execution_count": 126,
   "metadata": {
    "execution": {
     "iopub.execute_input": "2024-05-12T16:17:30.438084Z",
     "iopub.status.busy": "2024-05-12T16:17:30.437547Z",
     "iopub.status.idle": "2024-05-12T16:17:30.450696Z",
     "shell.execute_reply": "2024-05-12T16:17:30.449881Z",
     "shell.execute_reply.started": "2024-05-12T16:17:30.438041Z"
    },
    "tags": []
   },
   "outputs": [
    {
     "data": {
      "text/plain": [
       "<bound method DataFrame.to_numpy of      target target_names  sepal length (cm)\n",
       "0         0       setosa                5.1\n",
       "1         0       setosa                4.9\n",
       "2         0       setosa                4.7\n",
       "3         0       setosa                4.6\n",
       "4         0       setosa                5.0\n",
       "..      ...          ...                ...\n",
       "145       2    virginica                6.7\n",
       "146       2    virginica                6.3\n",
       "147       2    virginica                6.5\n",
       "148       2    virginica                6.2\n",
       "149       2    virginica                5.9\n",
       "\n",
       "[150 rows x 3 columns]>"
      ]
     },
     "execution_count": 126,
     "metadata": {},
     "output_type": "execute_result"
    }
   ],
   "source": [
    "df[['target','target_names','sepal length (cm)']].to_numpy"
   ]
  },
  {
   "cell_type": "markdown",
   "metadata": {},
   "source": [
    "# 12.Evaluation with torchmetrics\n",
    "## 12.1 Writing the evaluation loop"
   ]
  },
  {
   "cell_type": "code",
   "execution_count": null,
   "metadata": {
    "tags": []
   },
   "outputs": [],
   "source": [
    "# Set the model to evaluation mode\n",
    "model.eval()\n",
    "validation_loss = 0.0\n",
    "\n",
    "with torch.no_grad():\n",
    "    for data in validationloader:\n",
    "        outputs = model(data[0])\n",
    "        loss = criterion(outputs, data[1])\n",
    "      \n",
    "        # Sum the current loss to the validation_loss variable\n",
    "        validation_loss += loss.item()\n",
    "        \n",
    "# Calculate the mean loss value\n",
    "validation_loss_epoch = validation_loss / len(validationloader)\n",
    "print(validation_loss_epoch)\n",
    "\n",
    "# Set the model back to training mode\n",
    "model.train()"
   ]
  },
  {
   "cell_type": "markdown",
   "metadata": {},
   "source": [
    "## 12.2 Calculating accuracy using torchmetrics"
   ]
  },
  {
   "cell_type": "code",
   "execution_count": 129,
   "metadata": {
    "execution": {
     "iopub.execute_input": "2024-05-12T16:39:57.765122Z",
     "iopub.status.busy": "2024-05-12T16:39:57.764417Z",
     "iopub.status.idle": "2024-05-12T16:39:57.889849Z",
     "shell.execute_reply": "2024-05-12T16:39:57.889101Z",
     "shell.execute_reply.started": "2024-05-12T16:39:57.765079Z"
    }
   },
   "outputs": [],
   "source": [
    "import torchmetrics"
   ]
  },
  {
   "cell_type": "code",
   "execution_count": null,
   "metadata": {
    "tags": []
   },
   "outputs": [],
   "source": [
    "# Create accuracy metric using torch metrics\n",
    "metric = torchmetrics.Accuracy(task=\"multiclass\", num_classes=3)\n",
    "for data in dataloader:\n",
    "    features, labels = data\n",
    "    outputs = model(features)\n",
    "    \n",
    "    # Calculate accuracy over the batch\n",
    "    acc = metric(outputs.softmax(dim=-1), labels.argmax(dim=-1))\n",
    "\n",
    "# Calculate accuracy over the whole epoch\n",
    "acc = metric.compute()\n",
    "\n",
    "# Reset the metric for the next epoch \n",
    "metric.reset()"
   ]
  },
  {
   "cell_type": "markdown",
   "metadata": {},
   "source": [
    "# 13.Dropout layers"
   ]
  },
  {
   "cell_type": "code",
   "execution_count": null,
   "metadata": {},
   "outputs": [],
   "source": [
    "# Using the same model, set the dropout probability to 0.8\n",
    "model = nn.Sequential(nn.Linear(3072,16),\n",
    "                        nn.ReLU(0.1),\n",
    "                        nn.Dropout(p=0.8))\n",
    "model(input_tensor)"
   ]
  },
  {
   "cell_type": "markdown",
   "metadata": {},
   "source": [
    "# 14.Hyperparameter Tuning"
   ]
  },
  {
   "cell_type": "code",
   "execution_count": 35,
   "metadata": {
    "execution": {
     "iopub.execute_input": "2024-05-12T17:19:37.130440Z",
     "iopub.status.busy": "2024-05-12T17:19:37.129895Z",
     "iopub.status.idle": "2024-05-12T17:19:37.138033Z",
     "shell.execute_reply": "2024-05-12T17:19:37.137033Z",
     "shell.execute_reply.started": "2024-05-12T17:19:37.130399Z"
    }
   },
   "outputs": [],
   "source": [
    "values = []\n",
    "for idx in range(10):\n",
    "    # Randomly sample a learning rate factor between 2 and 4\n",
    "    factor = np.random.uniform(2,4)\n",
    "    lr = 10 ** -factor\n",
    "    \n",
    "    # Randomly select a momentum between 0.85 and 0.99\n",
    "    momentum = np.random.uniform(0.85, 0.99)\n",
    "    \n",
    "    values.append((lr, momentum))"
   ]
  },
  {
   "cell_type": "code",
   "execution_count": null,
   "metadata": {},
   "outputs": [],
   "source": []
  }
 ],
 "metadata": {
  "kernelspec": {
   "display_name": "environment",
   "language": "python",
   "name": "python3"
  },
  "language_info": {
   "codemirror_mode": {
    "name": "ipython",
    "version": 3
   },
   "file_extension": ".py",
   "mimetype": "text/x-python",
   "name": "python",
   "nbconvert_exporter": "python",
   "pygments_lexer": "ipython3",
   "version": "3.10.11"
  }
 },
 "nbformat": 4,
 "nbformat_minor": 4
}
