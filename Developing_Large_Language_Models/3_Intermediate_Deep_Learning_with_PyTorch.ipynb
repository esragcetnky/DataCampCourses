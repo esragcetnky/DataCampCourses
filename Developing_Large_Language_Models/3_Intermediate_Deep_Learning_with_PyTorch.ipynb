{
 "cells": [
  {
   "cell_type": "markdown",
   "id": "989cbc3c-e67e-4e70-ae1c-2503cc5b2377",
   "metadata": {},
   "source": [
    "# 0.Import Libraries"
   ]
  },
  {
   "cell_type": "code",
   "execution_count": 2,
   "id": "8cb5879b-3083-4993-b3e0-b7cb038e5ec3",
   "metadata": {
    "execution": {
     "iopub.execute_input": "2024-07-01T10:54:04.368267Z",
     "iopub.status.busy": "2024-07-01T10:54:04.367940Z",
     "iopub.status.idle": "2024-07-01T10:54:05.753740Z",
     "shell.execute_reply": "2024-07-01T10:54:05.752751Z",
     "shell.execute_reply.started": "2024-07-01T10:54:04.368223Z"
    },
    "tags": []
   },
   "outputs": [
    {
     "ename": "ModuleNotFoundError",
     "evalue": "No module named 'torchvision'",
     "output_type": "error",
     "traceback": [
      "\u001b[1;31m---------------------------------------------------------------------------\u001b[0m",
      "\u001b[1;31mModuleNotFoundError\u001b[0m                       Traceback (most recent call last)",
      "Cell \u001b[1;32mIn[2], line 4\u001b[0m\n\u001b[0;32m      1\u001b[0m \u001b[38;5;28;01mimport\u001b[39;00m \u001b[38;5;21;01mmatplotlib\u001b[39;00m\u001b[38;5;21;01m.\u001b[39;00m\u001b[38;5;21;01mpyplot\u001b[39;00m \u001b[38;5;28;01mas\u001b[39;00m \u001b[38;5;21;01mplt\u001b[39;00m\n\u001b[0;32m      3\u001b[0m \u001b[38;5;28;01mimport\u001b[39;00m \u001b[38;5;21;01mtorch\u001b[39;00m\n\u001b[1;32m----> 4\u001b[0m \u001b[38;5;28;01mfrom\u001b[39;00m \u001b[38;5;21;01mtorchvision\u001b[39;00m\u001b[38;5;21;01m.\u001b[39;00m\u001b[38;5;21;01mdatasets\u001b[39;00m \u001b[38;5;28;01mimport\u001b[39;00m ImageFolder\n\u001b[0;32m      5\u001b[0m \u001b[38;5;28;01mfrom\u001b[39;00m \u001b[38;5;21;01mtorchvision\u001b[39;00m \u001b[38;5;28;01mimport\u001b[39;00m transforms\n\u001b[0;32m      6\u001b[0m \u001b[38;5;28;01mfrom\u001b[39;00m \u001b[38;5;21;01mtorch\u001b[39;00m\u001b[38;5;21;01m.\u001b[39;00m\u001b[38;5;21;01mutils\u001b[39;00m\u001b[38;5;21;01m.\u001b[39;00m\u001b[38;5;21;01mdata\u001b[39;00m \u001b[38;5;28;01mimport\u001b[39;00m DataLoader\n",
      "\u001b[1;31mModuleNotFoundError\u001b[0m: No module named 'torchvision'"
     ]
    }
   ],
   "source": [
    "import matplotlib.pyplot as plt\n",
    "\n",
    "import torch\n",
    "from torchvision.datasets import ImageFolder\n",
    "from torchvision import transforms\n",
    "from torch.utils.data import DataLoader\n",
    "from torch import nn as nn\n",
    "from torch import optim as optim\n",
    "from torchmetrics import Precision, Recall\n",
    "\n",
    "import ClassNet"
   ]
  },
  {
   "cell_type": "markdown",
   "id": "709c07b1-9d4a-4491-87f2-c840ea36ecc6",
   "metadata": {},
   "source": [
    "# 1.Loading Image Files\n",
    "## 1.1 Define the transformers"
   ]
  },
  {
   "cell_type": "code",
   "execution_count": 161,
   "id": "5adb999e-b601-4151-9229-db73758359fe",
   "metadata": {
    "execution": {
     "iopub.execute_input": "2024-05-26T14:07:57.311126Z",
     "iopub.status.busy": "2024-05-26T14:07:57.310277Z",
     "iopub.status.idle": "2024-05-26T14:07:57.319071Z",
     "shell.execute_reply": "2024-05-26T14:07:57.318265Z",
     "shell.execute_reply.started": "2024-05-26T14:07:57.311085Z"
    },
    "tags": []
   },
   "outputs": [],
   "source": [
    "train_transforms = transforms.Compose([\n",
    "    transforms.RandomRotation(45),\n",
    "    transforms.RandomHorizontalFlip(),\n",
    "    transforms.RandomAutocontrast(),\n",
    "    transforms.ToTensor(),\n",
    "    transforms.Resize((64,64)),\n",
    "])\n",
    "\n",
    "test_transforms = transforms.Compose([\n",
    "    transforms.ToTensor(),\n",
    "    transforms.Resize((64,64))\n",
    "])"
   ]
  },
  {
   "cell_type": "markdown",
   "id": "66bdefc9-b440-4459-ba67-6ded09a3d3a7",
   "metadata": {},
   "source": [
    "## 1.2 Define the ImageFolders"
   ]
  },
  {
   "cell_type": "code",
   "execution_count": 162,
   "id": "319ea0d1-d44d-4554-a603-25d097219b22",
   "metadata": {
    "execution": {
     "iopub.execute_input": "2024-05-26T14:07:57.320340Z",
     "iopub.status.busy": "2024-05-26T14:07:57.319977Z",
     "iopub.status.idle": "2024-05-26T14:07:57.332405Z",
     "shell.execute_reply": "2024-05-26T14:07:57.331591Z",
     "shell.execute_reply.started": "2024-05-26T14:07:57.320318Z"
    },
    "tags": []
   },
   "outputs": [],
   "source": [
    "dataset_train = ImageFolder(\"clouds_train/\",transform=train_transforms)\n",
    "dataset_test = ImageFolder(\"clouds_test/\", transform=test_transforms)"
   ]
  },
  {
   "cell_type": "markdown",
   "id": "7bad415d-f6c7-42c3-823c-5c0b9e327feb",
   "metadata": {},
   "source": [
    "## 1.3 Creating DataLoader"
   ]
  },
  {
   "cell_type": "code",
   "execution_count": 163,
   "id": "9fe33eaf-6314-41f4-8f48-3147a69c8fea",
   "metadata": {
    "execution": {
     "iopub.execute_input": "2024-05-26T14:07:57.333471Z",
     "iopub.status.busy": "2024-05-26T14:07:57.333167Z",
     "iopub.status.idle": "2024-05-26T14:07:57.356499Z",
     "shell.execute_reply": "2024-05-26T14:07:57.355533Z",
     "shell.execute_reply.started": "2024-05-26T14:07:57.333455Z"
    },
    "tags": []
   },
   "outputs": [
    {
     "name": "stdout",
     "output_type": "stream",
     "text": [
      "torch.Size([1, 3, 64, 64])\n"
     ]
    }
   ],
   "source": [
    "dataloader_train = DataLoader(\n",
    "    dataset_train,\n",
    "    shuffle = True,\n",
    "    batch_size=1\n",
    ")\n",
    "\n",
    "dataloader_test = DataLoader(\n",
    "    dataset_test,\n",
    "    shuffle = True,\n",
    "    batch_size=1\n",
    ")\n",
    "\n",
    "image, label = next(iter(dataloader_train))\n",
    "print(image.shape) # 1 represent batch size, 3 represent 3 color"
   ]
  },
  {
   "cell_type": "markdown",
   "id": "53fd2be9-b332-4f0c-ad98-118050454b7e",
   "metadata": {},
   "source": [
    "## 1.4 Squeeze Batch Dimension and Display the Image using imshow"
   ]
  },
  {
   "cell_type": "code",
   "execution_count": 164,
   "id": "d7f5deeb-86de-4ffd-bc31-82da347aabf6",
   "metadata": {
    "execution": {
     "iopub.execute_input": "2024-05-26T14:07:57.358614Z",
     "iopub.status.busy": "2024-05-26T14:07:57.358231Z",
     "iopub.status.idle": "2024-05-26T14:07:57.363409Z",
     "shell.execute_reply": "2024-05-26T14:07:57.362817Z",
     "shell.execute_reply.started": "2024-05-26T14:07:57.358591Z"
    },
    "tags": []
   },
   "outputs": [
    {
     "name": "stdout",
     "output_type": "stream",
     "text": [
      "torch.Size([64, 64, 3])\n"
     ]
    }
   ],
   "source": [
    "image = image.squeeze().permute(1,2,0)\n",
    "print(image.shape)"
   ]
  },
  {
   "cell_type": "code",
   "execution_count": 165,
   "id": "2b71d159-f2cd-4e6b-8273-bd67e2b0e826",
   "metadata": {
    "execution": {
     "iopub.execute_input": "2024-05-26T14:07:57.364197Z",
     "iopub.status.busy": "2024-05-26T14:07:57.364024Z",
     "iopub.status.idle": "2024-05-26T14:07:57.470341Z",
     "shell.execute_reply": "2024-05-26T14:07:57.469635Z",
     "shell.execute_reply.started": "2024-05-26T14:07:57.364183Z"
    },
    "tags": []
   },
   "outputs": [
    {
     "data": {
      "image/png": "[encoded data removed]",
      "text/plain": [
       "<Figure size 640x480 with 1 Axes>"
      ]
     },
     "metadata": {},
     "output_type": "display_data"
    }
   ],
   "source": [
    "plt.imshow(image)\n",
    "plt.show()"
   ]
  },
  {
   "cell_type": "markdown",
   "id": "13c5a0db-5335-486d-b6bd-eff0ca93c097",
   "metadata": {},
   "source": [
    "# 2.Convolutional Neural Networks\n",
    "## 2.1 Create instance for model"
   ]
  },
  {
   "cell_type": "code",
   "execution_count": 166,
   "id": "783bc84b-9e15-4af9-b910-3581bf4482bb",
   "metadata": {
    "execution": {
     "iopub.execute_input": "2024-05-26T14:07:57.471736Z",
     "iopub.status.busy": "2024-05-26T14:07:57.471457Z",
     "iopub.status.idle": "2024-05-26T14:07:57.476383Z",
     "shell.execute_reply": "2024-05-26T14:07:57.475726Z",
     "shell.execute_reply.started": "2024-05-26T14:07:57.471719Z"
    },
    "tags": []
   },
   "outputs": [],
   "source": [
    "num_classes = 7\n",
    "convo_model = ClassNet.ConvoNet(num_classes=num_classes)"
   ]
  },
  {
   "cell_type": "markdown",
   "id": "efbf31ef-62c1-4896-a71e-3cb13d204158",
   "metadata": {},
   "source": [
    "## 2.2 Defining Loss Function and Optimizers"
   ]
  },
  {
   "cell_type": "code",
   "execution_count": 167,
   "id": "b9cb1413-f610-45df-ad61-778db14efd66",
   "metadata": {
    "execution": {
     "iopub.execute_input": "2024-05-26T14:07:57.477371Z",
     "iopub.status.busy": "2024-05-26T14:07:57.477108Z",
     "iopub.status.idle": "2024-05-26T14:07:57.486264Z",
     "shell.execute_reply": "2024-05-26T14:07:57.485627Z",
     "shell.execute_reply.started": "2024-05-26T14:07:57.477356Z"
    },
    "tags": []
   },
   "outputs": [
    {
     "data": {
      "text/plain": [
       "False"
      ]
     },
     "execution_count": 167,
     "metadata": {},
     "output_type": "execute_result"
    }
   ],
   "source": [
    "torch.cuda.is_available()"
   ]
  },
  {
   "cell_type": "code",
   "execution_count": 168,
   "id": "cb51d4b8-fa87-4269-9594-678a497f9981",
   "metadata": {
    "execution": {
     "iopub.execute_input": "2024-05-26T14:07:57.487180Z",
     "iopub.status.busy": "2024-05-26T14:07:57.486950Z",
     "iopub.status.idle": "2024-05-26T14:07:57.495612Z",
     "shell.execute_reply": "2024-05-26T14:07:57.494898Z",
     "shell.execute_reply.started": "2024-05-26T14:07:57.487166Z"
    },
    "tags": []
   },
   "outputs": [],
   "source": [
    "def get_default_device():\n",
    "    \"\"\"Pick GPU if available, else CPU\"\"\"\n",
    "    if torch.cuda.is_available():\n",
    "        return torch.device('cuda')\n",
    "    else:\n",
    "        return torch.device('cpu')"
   ]
  },
  {
   "cell_type": "code",
   "execution_count": 169,
   "id": "4005fd94-c3a7-4ea6-a2b8-cb6dad92c99e",
   "metadata": {
    "execution": {
     "iopub.execute_input": "2024-05-26T14:07:57.496607Z",
     "iopub.status.busy": "2024-05-26T14:07:57.496408Z",
     "iopub.status.idle": "2024-05-26T14:07:57.506721Z",
     "shell.execute_reply": "2024-05-26T14:07:57.505961Z",
     "shell.execute_reply.started": "2024-05-26T14:07:57.496589Z"
    },
    "tags": []
   },
   "outputs": [
    {
     "data": {
      "text/plain": [
       "device(type='cpu')"
      ]
     },
     "execution_count": 169,
     "metadata": {},
     "output_type": "execute_result"
    }
   ],
   "source": [
    "get_default_device()"
   ]
  },
  {
   "cell_type": "code",
   "execution_count": 170,
   "id": "527ce440-017d-4fe2-bffa-7f5518619c0b",
   "metadata": {
    "execution": {
     "iopub.execute_input": "2024-05-26T14:07:57.509199Z",
     "iopub.status.busy": "2024-05-26T14:07:57.508846Z",
     "iopub.status.idle": "2024-05-26T14:07:57.516388Z",
     "shell.execute_reply": "2024-05-26T14:07:57.515651Z",
     "shell.execute_reply.started": "2024-05-26T14:07:57.509176Z"
    },
    "tags": []
   },
   "outputs": [],
   "source": [
    "criterion = nn.CrossEntropyLoss()\n",
    "optimizer = optim.Adam(convo_model.parameters(), lr=0.001)"
   ]
  },
  {
   "cell_type": "markdown",
   "id": "5f487b55-0924-453c-8626-856de8b1be9a",
   "metadata": {},
   "source": [
    "# 3.Training Loop"
   ]
  },
  {
   "cell_type": "code",
   "execution_count": 171,
   "id": "3b704cf5-0f2f-4c01-91a3-e66122415bc3",
   "metadata": {
    "execution": {
     "iopub.execute_input": "2024-05-26T14:07:57.517396Z",
     "iopub.status.busy": "2024-05-26T14:07:57.517197Z",
     "iopub.status.idle": "2024-05-26T14:10:06.415074Z",
     "shell.execute_reply": "2024-05-26T14:10:06.414379Z",
     "shell.execute_reply.started": "2024-05-26T14:07:57.517377Z"
    },
    "tags": []
   },
   "outputs": [
    {
     "name": "stdout",
     "output_type": "stream",
     "text": [
      "Epoch 1, Loss: 1.9361\n",
      "Epoch 2, Loss: 1.7165\n",
      "Epoch 3, Loss: 1.6522\n",
      "Epoch 4, Loss: 1.5915\n",
      "Epoch 5, Loss: 1.5286\n",
      "Epoch 6, Loss: 1.4922\n",
      "Epoch 7, Loss: 1.5203\n",
      "Epoch 8, Loss: 1.3526\n",
      "Epoch 9, Loss: 1.4029\n",
      "Epoch 10, Loss: 1.2538\n",
      "Epoch 11, Loss: 1.2338\n",
      "Epoch 12, Loss: 1.4203\n",
      "Epoch 13, Loss: 1.3124\n",
      "Epoch 14, Loss: 1.1393\n",
      "Epoch 15, Loss: 1.3039\n",
      "Epoch 16, Loss: 1.1452\n",
      "Epoch 17, Loss: 1.3247\n",
      "Epoch 18, Loss: 1.1239\n",
      "Epoch 19, Loss: 1.0686\n",
      "Epoch 20, Loss: 1.0179\n",
      "Epoch 21, Loss: 1.2535\n",
      "Epoch 22, Loss: 1.2313\n",
      "Epoch 23, Loss: 1.0845\n",
      "Epoch 24, Loss: 1.1710\n",
      "Epoch 25, Loss: 1.0322\n",
      "Epoch 26, Loss: 1.0540\n",
      "Epoch 27, Loss: 1.2721\n",
      "Epoch 28, Loss: 0.9392\n",
      "Epoch 29, Loss: 1.3781\n",
      "Epoch 30, Loss: 1.0687\n",
      "Epoch 31, Loss: 0.9920\n",
      "Epoch 32, Loss: 0.9269\n",
      "Epoch 33, Loss: 0.9955\n",
      "Epoch 34, Loss: 0.9688\n",
      "Epoch 35, Loss: 1.0321\n",
      "Epoch 36, Loss: 1.2067\n",
      "Epoch 37, Loss: 0.8139\n",
      "Epoch 38, Loss: 0.8826\n",
      "Epoch 39, Loss: 0.9152\n",
      "Epoch 40, Loss: 1.0114\n",
      "Epoch 41, Loss: 1.0323\n",
      "Epoch 42, Loss: 0.8093\n",
      "Epoch 43, Loss: 1.2954\n",
      "Epoch 44, Loss: 0.9648\n",
      "Epoch 45, Loss: 0.7945\n",
      "Epoch 46, Loss: 0.9235\n",
      "Epoch 47, Loss: 0.8667\n",
      "Epoch 48, Loss: 0.9067\n",
      "Epoch 49, Loss: 0.8687\n",
      "Epoch 50, Loss: 0.7212\n"
     ]
    }
   ],
   "source": [
    "for epoch in range(50):    \n",
    "    convo_model.train()\n",
    "    running_loss = 0.0\n",
    "    # Iterate over training batches\n",
    "    for images, labels in dataloader_train:\n",
    "        optimizer.zero_grad()\n",
    "        outputs = convo_model(images)\n",
    "        loss = criterion(outputs, labels)\n",
    "        loss.backward()\n",
    "        optimizer.step()\n",
    "        running_loss += loss.item()\n",
    "    \n",
    "    epoch_loss = running_loss / len(dataloader_train)\n",
    "    print(f\"Epoch {epoch+1}, Loss: {epoch_loss:.4f}\")\n"
   ]
  },
  {
   "cell_type": "markdown",
   "id": "984f3a37-692b-4d3c-a2c6-8ff6a5ad18fd",
   "metadata": {},
   "source": [
    "# 4.Evaluation Loop"
   ]
  },
  {
   "cell_type": "code",
   "execution_count": 172,
   "id": "2d1ad690-33d7-461e-af08-9c9fa4f0dc96",
   "metadata": {
    "execution": {
     "iopub.execute_input": "2024-05-26T14:10:06.416370Z",
     "iopub.status.busy": "2024-05-26T14:10:06.416084Z",
     "iopub.status.idle": "2024-05-26T14:10:06.420733Z",
     "shell.execute_reply": "2024-05-26T14:10:06.420311Z",
     "shell.execute_reply.started": "2024-05-26T14:10:06.416346Z"
    },
    "tags": []
   },
   "outputs": [],
   "source": [
    "metric_precision = Precision(\n",
    "    task=\"multiclass\",\n",
    "    num_classes=7,\n",
    "    average=\"macro\"\n",
    ")\n",
    "\n",
    "metric_recall = Recall(\n",
    "    task=\"multiclass\",\n",
    "    num_classes=7,\n",
    "    average=\"macro\"\n",
    ")"
   ]
  },
  {
   "cell_type": "code",
   "execution_count": 173,
   "id": "40dfa263-d684-4392-ad00-a849e2e5aff2",
   "metadata": {
    "execution": {
     "iopub.execute_input": "2024-05-26T14:10:06.421480Z",
     "iopub.status.busy": "2024-05-26T14:10:06.421277Z",
     "iopub.status.idle": "2024-05-26T14:10:08.097965Z",
     "shell.execute_reply": "2024-05-26T14:10:08.097231Z",
     "shell.execute_reply.started": "2024-05-26T14:10:06.421465Z"
    },
    "tags": []
   },
   "outputs": [],
   "source": [
    "convo_model.eval()\n",
    "with torch.no_grad():\n",
    "    for images, labels in dataloader_test:\n",
    "        outputs = convo_model(images)\n",
    "        _, preds = torch.max(outputs, 1)\n",
    "        metric_precision(preds, labels)\n",
    "        metric_recall(preds, labels)\n",
    "\n",
    "precision = metric_precision.compute()\n",
    "recall = metric_recall.compute()"
   ]
  },
  {
   "cell_type": "code",
   "execution_count": 174,
   "id": "7711be7d-ee06-4f88-8dfc-228b6a1eba7d",
   "metadata": {
    "execution": {
     "iopub.execute_input": "2024-05-26T14:10:08.099020Z",
     "iopub.status.busy": "2024-05-26T14:10:08.098827Z",
     "iopub.status.idle": "2024-05-26T14:10:08.102395Z",
     "shell.execute_reply": "2024-05-26T14:10:08.101852Z",
     "shell.execute_reply.started": "2024-05-26T14:10:08.099003Z"
    }
   },
   "outputs": [
    {
     "name": "stdout",
     "output_type": "stream",
     "text": [
      "Precision : 0.5909356474876404\n",
      "Recall : 0.6444304585456848\n"
     ]
    }
   ],
   "source": [
    "print(f\"Precision : {precision}\")\n",
    "print(f\"Recall : {recall}\")"
   ]
  },
  {
   "cell_type": "code",
   "execution_count": 175,
   "id": "e10fd456-8700-400a-8597-53160432b312",
   "metadata": {
    "execution": {
     "iopub.execute_input": "2024-05-26T14:10:08.103486Z",
     "iopub.status.busy": "2024-05-26T14:10:08.103124Z",
     "iopub.status.idle": "2024-05-26T14:10:09.406302Z",
     "shell.execute_reply": "2024-05-26T14:10:09.405772Z",
     "shell.execute_reply.started": "2024-05-26T14:10:08.103470Z"
    },
    "tags": []
   },
   "outputs": [
    {
     "name": "stdout",
     "output_type": "stream",
     "text": [
      "tensor([0.8571, 0.8281, 0.9091, 0.4833, 0.4175, 0.8750, 0.1408])\n"
     ]
    }
   ],
   "source": [
    "metric_recall_per_class = Recall(\n",
    "    task=\"multiclass\",\n",
    "    num_classes=7,\n",
    "    average=None\n",
    ")\n",
    "\n",
    "convo_model.eval()\n",
    "with torch.no_grad():\n",
    "    for images, labels in dataloader_test:\n",
    "        outputs = convo_model(images)\n",
    "        _, preds = torch.max(outputs, 1)\n",
    "        metric_recall_per_class(preds, labels)\n",
    "\n",
    "recall_per_class = metric_recall_per_class.compute()\n",
    "print(recall_per_class)"
   ]
  },
  {
   "cell_type": "code",
   "execution_count": 176,
   "id": "0727b707-3c3d-4f21-bc0e-b4f81c7866aa",
   "metadata": {
    "execution": {
     "iopub.execute_input": "2024-05-26T14:10:09.407242Z",
     "iopub.status.busy": "2024-05-26T14:10:09.407015Z",
     "iopub.status.idle": "2024-05-26T14:10:09.410814Z",
     "shell.execute_reply": "2024-05-26T14:10:09.410427Z",
     "shell.execute_reply.started": "2024-05-26T14:10:09.407224Z"
    }
   },
   "outputs": [
    {
     "data": {
      "text/plain": [
       "{'cirriform clouds': 0,\n",
       " 'clear sky': 1,\n",
       " 'cumulonimbus clouds': 2,\n",
       " 'cumulus clouds': 3,\n",
       " 'high cumuliform clouds': 4,\n",
       " 'stratiform clouds': 5,\n",
       " 'stratocumulus clouds': 6}"
      ]
     },
     "execution_count": 176,
     "metadata": {},
     "output_type": "execute_result"
    }
   ],
   "source": [
    "dataset_test.class_to_idx"
   ]
  },
  {
   "cell_type": "code",
   "execution_count": 177,
   "id": "33ce8cf4-ac96-4251-a604-53f1711e262d",
   "metadata": {
    "execution": {
     "iopub.execute_input": "2024-05-26T14:10:09.411627Z",
     "iopub.status.busy": "2024-05-26T14:10:09.411373Z",
     "iopub.status.idle": "2024-05-26T14:10:09.419932Z",
     "shell.execute_reply": "2024-05-26T14:10:09.419528Z",
     "shell.execute_reply.started": "2024-05-26T14:10:09.411612Z"
    }
   },
   "outputs": [],
   "source": [
    "# Get precision per class\n",
    "recall_per_class_dict = {\n",
    "    k: recall_per_class[v].item()\n",
    "    for k, v \n",
    "    in dataset_test.class_to_idx.items()\n",
    "}"
   ]
  },
  {
   "cell_type": "code",
   "execution_count": 178,
   "id": "b83cba3e-bfd3-4f82-bfe1-ce28f73319a4",
   "metadata": {
    "execution": {
     "iopub.execute_input": "2024-05-26T14:10:09.420696Z",
     "iopub.status.busy": "2024-05-26T14:10:09.420478Z",
     "iopub.status.idle": "2024-05-26T14:10:09.430127Z",
     "shell.execute_reply": "2024-05-26T14:10:09.429714Z",
     "shell.execute_reply.started": "2024-05-26T14:10:09.420682Z"
    }
   },
   "outputs": [
    {
     "data": {
      "text/plain": [
       "{'cirriform clouds': 0.8571428656578064,\n",
       " 'clear sky': 0.828125,\n",
       " 'cumulonimbus clouds': 0.9090909361839294,\n",
       " 'cumulus clouds': 0.4833333194255829,\n",
       " 'high cumuliform clouds': 0.41747573018074036,\n",
       " 'stratiform clouds': 0.875,\n",
       " 'stratocumulus clouds': 0.14084507524967194}"
      ]
     },
     "execution_count": 178,
     "metadata": {},
     "output_type": "execute_result"
    }
   ],
   "source": [
    "recall_per_class_dict"
   ]
  },
  {
   "cell_type": "markdown",
   "id": "8f33486a-cd38-490f-a82f-c6c4d8b790ba",
   "metadata": {},
   "source": [
    "## Results with epoch 20 \n",
    "\n",
    "    {'cirriform clouds': 0.4285714328289032,\n",
    "     'clear sky': 1.0,\n",
    "     'cumulonimbus clouds': 0.9090909361839294,\n",
    "     'cumulus clouds': 0.5583333373069763,\n",
    "     'high cumuliform clouds': 0.48543688654899597,\n",
    "     'stratiform clouds': 0.875,\n",
    "     'stratocumulus clouds': 0.5070422291755676}\n",
    " \n",
    " \n",
    "## Results with epoch 50\n",
    "\n",
    "    {'cirriform clouds': 0.8571428656578064,\n",
    "     'clear sky': 0.828125,\n",
    "     'cumulonimbus clouds': 0.9090909361839294,\n",
    "     'cumulus clouds': 0.4833333194255829,\n",
    "     'high cumuliform clouds': 0.41747573018074036,\n",
    "     'stratiform clouds': 0.875,\n",
    "     'stratocumulus clouds': 0.14084507524967194}"
   ]
  },
  {
   "cell_type": "code",
   "execution_count": null,
   "id": "dfcce243-f785-4c9a-b470-25ed29318896",
   "metadata": {},
   "outputs": [],
   "source": []
  }
 ],
 "metadata": {
  "kernelspec": {
   "display_name": "environment",
   "language": "python",
   "name": "python3"
  },
  "language_info": {
   "codemirror_mode": {
    "name": "ipython",
    "version": 3
   },
   "file_extension": ".py",
   "mimetype": "text/x-python",
   "name": "python",
   "nbconvert_exporter": "python",
   "pygments_lexer": "ipython3",
   "version": "3.10.11"
  }
 },
 "nbformat": 4,
 "nbformat_minor": 5
}
